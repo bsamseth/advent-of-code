{
 "cells": [
  {
   "cell_type": "markdown",
   "metadata": {},
   "source": [
    "# Find Bathroom Code\n",
    "\n",
    "Given the keypad\n",
    "\n",
    "| 1 | 2 | 3 |\n",
    "|---|---|---|\n",
    "| 4 | 5 | 6 |\n",
    "|7|8|9|\n",
    "\n",
    "and starting at 5, doing the moves under: What is the code?"
   ]
  },
  {
   "cell_type": "code",
   "execution_count": 25,
   "metadata": {
    "collapsed": false
   },
   "outputs": [
    {
     "name": "stdout",
     "output_type": "stream",
     "text": [
      "['DULUDRDDDRLUDURUUULRRRURDRDULRUDDUDRULUDDUDRLDULRRLRDRUDUUULUUDLRURDUDDDDRDLLLLULRDLDRDLRLULRUURDDUULUDLRURRDDRDDRDDLDRDLLUURDRUULRRURURRDLRLLLUDULULULULUDRLLRUDUURLDRLRLRDRRDRLLLDURRDULDURDDRLURRDURLRRRLDLLLDRUUURLRDLDLLLLRDURRLDLULRLDDLDLURLRRDDRUDDUULRURRUDLRDLDUURDDDDRLRURUDULUDLRRLLLLLRDRURLLDLDULUUDLUDDDRLLDRRUDLLURRUUDDRRLLRRLDDDURLDRDRLURRRRDRRRDDUDULULDURRUUURRRDULUUUDDRULDRLLRDLDURLURRLLRUUUULRDURLLDDRLLDLRLRULUUDRURUDLLURUDDRDURLRDRRRDURLDDRDRLRLLURULUUULUDDDULDLRDDDRDLLRRLDRDULLUUUDLDDLDDDLLLLLLLDUDURURDURDRUURRRDDRDUDLULDURDUDURDDDRULDURURURRLURLURLUURLULDLLRUULURDDRLRDDLRDLRRR', 'LUURLRUDRRUDLLDLUDDURULURLUUDUUDDRLUULRDUDDUULDUUDRURDDRRDRLULLRDRDLRLLUURRUULRLDRULUDLDUUDDDRDDLRDLULDRLDUULDLRDLLLDLDLRDUULUDURRULLRLDUDRLLLULUUUULUUDUUURRRDULLUURUDRRLDURRUULDRDULDUDRDUUULUUDDRLUDRLDLDRUUURDLDUDRUDUURLLRRLRLLRRLDULDDULUDUUURULDDUDUDRURRDLULRUDDURDLDLLRRRLDRLULLLRUULDUDLUUDURRLLLRLUDURRDDLDRDDDLURDLDRRUDUDLUDULULRUUUDLUURLLRLDDLURULDURDLRRDDDDURLDDLLDDULLLRLDLDULDUUDDRLDUURDDLDLUUDULRRLRLUURURUURLRLURUURLDRUURLLRDDUUUDULUDDDRDRLDRDRRLRLDULLRRUDLURULULRDRURURLULDUDLRURLRDDRULDDLRD', 'LUDRULUULRRDDDDRRDUURUDDRLDDLDRDURRURULRDLDLDUUDRRDUUDUDLLLRRLDUDDRLDDLRRLRDRLUDLULUDDUUDULDUUULUDLDDURLDURUDLDRUUDRLRRLDLDDULDUUDDLDDLLURDRLRUURDDRUDDUDLDRRLRUDRUULRRRLRULULURDLRRURDRLRULDDDRDUULLURUUUURUDDLRRRRRDURLULDLUULUDRRUDUDRRDDRURDURLRLUDDLDLRRULUDLDDRLDDLDDDLLLLRDLLUULDDLULDLDRDDUDLURUDLDLDDRRUUDDDLRLLLDRRDDDUURDUDURUURRDRLLDUDLDUULLDLDLLUULLRRULDLDRURLDULDRUURDURRURDLRDLLLDRRUDRUUDRURLUDDRURLDURRDLUUDLUUDULLLDDDDRRDLLLDLURULDDRDLUUURRDRRUUDDUL', 'DUUULDUDDDURLLULDDLLUDURLLLURULULURUURDRURLRULLLLDRDDULRRDRRLLLRDDDUULLRRURRULLDDURRRLRDDLULDULLDUDLURRDLDDLURDLRLLDRURLLRLLRRRDRRRURURUUDDLLDDLDDDLRLURUUUULRDLUDDDURLLDDRLDRRLLUDUUULRLLDRRRLRUUDLDUULRLUDRULLLLDUDLLUUDDRUURLURUDRDDDLRURUDRLULLULUUDLDURDULRRDRLDURUULRDRRRDRDRRLRLRDDUULLRDLDURDDDULURRLULDDURDURDDUDURDLLUUULUDULRDDLDRDRUDLLUURDLRDURURULURULLDRLLRRULDLULULDLULRURLRRLUDLLLRLUDLURLULDULDRLLLDLDDDDRDRLRRLRDULUUDULDDLDURDLLLDDDDLLUURRDURLDLUDDLULRUUUDDRRLDLLLRDLLDRRRDDLULLURDDRRRRLDLRLLLRL', 'LULLRRDURRLDUUDRRURLURURRRLRDRUULUULURLLURRDRULRDURDDDDUULLLLDUULDLULURDRLDLULULDRLLDLLRLRULURUDRUUDULRULLLUDRULUDRLLUDLDRRDRUUURURLRDURDRLRDDDURLURRDLRUUUDUURULULDLUULRDLRRRDRDRLLLDLRRDRLLDDULDRUDRRLULLRDLDUDDULRDDLULRURULRLLLULDLLLLRDLDRURUDUURURLDRLUULLDUDULUDDDULUDLRUDDUDLULLUULUUURULURRULRDDURDDLURLRRDRDLDULRLRDRRRULRDDDRLLDDDDRRRRDRDLULUURDURULDLRDULDUDLDURUDLUDLUDDDUDURDURDDURLLRUDUURRRUDRRRRULLLLDDDLUULLUULRRRULDLURDLULRULDRLR']\n"
     ]
    }
   ],
   "source": [
    "with open('input.txt', 'r') as f:\n",
    "    instructions = f.read().split('\\n')[:-1]\n",
    "print(instructions)"
   ]
  },
  {
   "cell_type": "code",
   "execution_count": 37,
   "metadata": {
    "collapsed": false
   },
   "outputs": [
    {
     "name": "stdout",
     "output_type": "stream",
     "text": [
      "98575"
     ]
    }
   ],
   "source": [
    "class Keypad(object):\n",
    "    def __init__(self):\n",
    "        self.key = [1, 1]\n",
    "        \n",
    "    def move(self, m):\n",
    "        if m == 'U':\n",
    "            self.key[1] = max(0, self.key[1] - 1)\n",
    "        elif m == 'D':\n",
    "            self.key[1] = min(2, self.key[1] + 1)\n",
    "        elif m == 'L':\n",
    "            self.key[0] = max(0, self.key[0] - 1)\n",
    "        elif m == 'R':\n",
    "            self.key[0] = min(2, self.key[0] + 1)\n",
    "    \n",
    "    @property\n",
    "    def keyvalue(self):\n",
    "        return 3 * self.key[1] + self.key[0] + 1\n",
    "\n",
    "    \n",
    "    \n",
    "keypad = Keypad()\n",
    "for line in instructions:\n",
    "    for move in line:\n",
    "        keypad.move(move)\n",
    "    print(keypad.keyvalue, end='')\n",
    "        "
   ]
  },
  {
   "cell_type": "markdown",
   "metadata": {},
   "source": [
    "## Solve on the actual keypad\n",
    "\n",
    "|   |   | 1 |   |   |\n",
    "|---|---|---|---|---|\n",
    "|   | 2 | 3 | 4 |   |\n",
    "| 5 | 6 | 7 | 8 | 9 |\n",
    "|   | A | B | C |   |\n",
    "|   |   | D |   |   |\n",
    "\n",
    "What now? Let's hard code it."
   ]
  },
  {
   "cell_type": "code",
   "execution_count": 43,
   "metadata": {
    "collapsed": false
   },
   "outputs": [
    {
     "name": "stdout",
     "output_type": "stream",
     "text": [
      "0xc 0xd 0x8 0xd 0x4 "
     ]
    }
   ],
   "source": [
    "keymap = [0,\n",
    "          {'U': 1, 'D': 3, 'L': 1, 'R': 1},\n",
    "          {'U': 2, 'D': 6, 'L': 2, 'R': 3},\n",
    "          {'U': 1, 'D': 7, 'L': 2, 'R': 4},\n",
    "          {'U': 4, 'D': 8, 'L': 3, 'R': 4},\n",
    "          {'U': 5, 'D': 5, 'L': 5, 'R': 6},\n",
    "          {'U': 2, 'D': 0xa, 'L': 5, 'R': 7},\n",
    "          {'U': 3, 'D': 0xb, 'L': 6, 'R': 8},\n",
    "          {'U': 4, 'D': 0xc, 'L': 7, 'R': 9},\n",
    "          {'U': 9, 'D': 9, 'L': 8, 'R': 9},\n",
    "          {'U': 6, 'D': 0xa, 'L': 0xa, 'R': 0xb},\n",
    "          {'U': 7, 'D': 0xd, 'L': 0xa, 'R': 0xc},\n",
    "          {'U': 8, 'D': 0xc, 'L': 0xb, 'R': 0xc},\n",
    "          {'U': 0xb, 'D': 0xd, 'L': 0xd, 'R': 0xd}\n",
    "          ]\n",
    "\n",
    "key = 5\n",
    "for line in instructions:\n",
    "    for move in line:\n",
    "        key = keymap[key][move]\n",
    "    print(hex(key), end=' ')"
   ]
  }
 ],
 "metadata": {
  "kernelspec": {
   "display_name": "Python 3",
   "language": "python",
   "name": "python3"
  },
  "language_info": {
   "codemirror_mode": {
    "name": "ipython",
    "version": 3
   },
   "file_extension": ".py",
   "mimetype": "text/x-python",
   "name": "python",
   "nbconvert_exporter": "python",
   "pygments_lexer": "ipython3",
   "version": "3.5.2"
  }
 },
 "nbformat": 4,
 "nbformat_minor": 1
}
