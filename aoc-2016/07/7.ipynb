{
 "cells": [
  {
   "cell_type": "code",
   "execution_count": 60,
   "metadata": {
    "collapsed": false
   },
   "outputs": [
    {
     "name": "stdout",
     "output_type": "stream",
     "text": [
      "['rhamaeovmbheijj[hkwbkqzlcscwjkyjulk]ajsxfuemamuqcjccbc', 'gdlrknrmexvaypu[crqappbbcaplkkzb]vhvkjyadjsryysvj[nbvypeadikilcwg]jwxlimrgakadpxu[dgoanojvdvwfabtt]yqsalmulblolkgsheo', 'dqpthtgufgzjojuvzvm[eejdhpcqyiydwod]iingwezvcbtowwzc[uzlxaqenhgsebqskn]wcucfmnlarrvdceuxqc[dkwcsxeitcobaylhbvc]klxammurpqgmpsxsr']\n"
     ]
    }
   ],
   "source": [
    "with open('input.txt', 'r') as f:\n",
    "    ips = f.read().strip().split('\\n')\n",
    "print(ips[:3])"
   ]
  },
  {
   "cell_type": "code",
   "execution_count": 65,
   "metadata": {
    "collapsed": true
   },
   "outputs": [],
   "source": [
    "def window(seq, window_size=5):\n",
    "    for i in range(len(seq) - window_size + 1):\n",
    "        yield seq[i:i+window_size]\n",
    "\n",
    "def extract_parts(ip):\n",
    "    \"\"\"\n",
    "    Extract all inside- and outside parts of the ip. Insides are within brackets.\n",
    "    Might be several bracket pairs. This removes one by one, putting the respective\n",
    "    parts in the correct list.\n",
    "    \n",
    "    Returns list of outside- and inside parts\n",
    "    \"\"\"\n",
    "    inside = []\n",
    "    outside = []\n",
    "    try:\n",
    "        while True:    \n",
    "            bra_start, bra_end = ip.index('['), ip.index(']')\n",
    "            inside.append(ip[bra_start+1: bra_end])\n",
    "            outside.append(ip[:bra_start])\n",
    "            ip = ip.replace(ip[:bra_end+1], '')\n",
    "    except ValueError:\n",
    "        outside.append(ip)\n",
    "    return outside, inside"
   ]
  },
  {
   "cell_type": "code",
   "execution_count": 66,
   "metadata": {
    "collapsed": false
   },
   "outputs": [
    {
     "name": "stdout",
     "output_type": "stream",
     "text": [
      "Count of TLS supporting IPs: 110\n"
     ]
    }
   ],
   "source": [
    "from itertools import chain\n",
    "\n",
    "# The rule to decide if a 4-sequence is an ABBA\n",
    "isABBA = lambda s: s[0] == s[3] and s[1] == s[2] and s[0] != s[1]\n",
    "\n",
    "count = 0\n",
    "for ip in ips:\n",
    "    abba_outside = abba_inside = False\n",
    "    \n",
    "    outside, inside = extract_parts(ip)\n",
    "                \n",
    "    for seq in chain(*(window(i, 4) for i in outside)):\n",
    "        if isABBA(seq): abba_outside = True; break\n",
    "    for seq in chain(*(window(i, 4) for i in inside)):\n",
    "        if isABBA(seq): abba_inside = True; break\n",
    "    \n",
    "    if abba_outside and not abba_inside:\n",
    "        count += 1\n",
    "\n",
    "print('Count of TLS supporting IPs:', count)"
   ]
  },
  {
   "cell_type": "markdown",
   "metadata": {},
   "source": [
    "### Which supports SSL?"
   ]
  },
  {
   "cell_type": "code",
   "execution_count": 67,
   "metadata": {
    "collapsed": false
   },
   "outputs": [
    {
     "name": "stdout",
     "output_type": "stream",
     "text": [
      "Count of SSL supporting IPs: 242\n"
     ]
    }
   ],
   "source": [
    "count = 0\n",
    "for ip in ips:\n",
    "    \n",
    "    outside, inside = extract_parts(ip)\n",
    "    \n",
    "    ABAs = [seq for seq in chain(*(window(i, 3) for i in outside)) if seq[0] == seq[2] and s[0] != s[1]]\n",
    "    BABs = [s[1] + s[0] + s[1] for s in ABAs]\n",
    "    for seq in chain(*(window(i, 3) for i in inside)):\n",
    "        if seq in BABs: count += 1; break\n",
    "\n",
    "print('Count of SSL supporting IPs:', count)\n"
   ]
  },
  {
   "cell_type": "code",
   "execution_count": null,
   "metadata": {
    "collapsed": true
   },
   "outputs": [],
   "source": []
  }
 ],
 "metadata": {
  "kernelspec": {
   "display_name": "Python 3",
   "language": "python",
   "name": "python3"
  },
  "language_info": {
   "codemirror_mode": {
    "name": "ipython",
    "version": 3
   },
   "file_extension": ".py",
   "mimetype": "text/x-python",
   "name": "python",
   "nbconvert_exporter": "python",
   "pygments_lexer": "ipython3",
   "version": "3.5.2"
  }
 },
 "nbformat": 4,
 "nbformat_minor": 1
}
