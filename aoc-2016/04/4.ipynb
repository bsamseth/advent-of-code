{
 "cells": [
  {
   "cell_type": "code",
   "execution_count": 1,
   "metadata": {
    "collapsed": true
   },
   "outputs": [],
   "source": [
    "with open('input.txt', 'r') as f:\n",
    "    rooms = f.read().strip().split('\\n')"
   ]
  },
  {
   "cell_type": "code",
   "execution_count": 78,
   "metadata": {
    "collapsed": false
   },
   "outputs": [
    {
     "name": "stdout",
     "output_type": "stream",
     "text": [
      "['hqcfqwydw-fbqijys-whqii-huiuqhsx-660[qhiwf]',\n",
      " 'oxjmxdfkd-pzxsbkdbo-erkq-ixyloxqlov-913[xodkb]',\n",
      " 'bpvctixr-eaphixr-vgphh-gthtpgrw-947[smrkl]']\n"
     ]
    }
   ],
   "source": [
    "__import__('pprint').pprint(rooms[:3])"
   ]
  },
  {
   "cell_type": "code",
   "execution_count": 162,
   "metadata": {
    "collapsed": false
   },
   "outputs": [
    {
     "name": "stdout",
     "output_type": "stream",
     "text": [
      "ID sum: 242694\n",
      "324: northpole object storage \r\n"
     ]
    }
   ],
   "source": [
    "import re\n",
    "from collections import Counter\n",
    "\n",
    "id_sum = 0\n",
    "decrypted = []\n",
    "shift = lambda char, i: chr(ord('a') + (ord(char)-ord('a') + i) % 26 )\n",
    "\n",
    "for room in rooms:\n",
    "    digits = re.search('\\d+', room)\n",
    "    i, k = digits.start(), digits.end()\n",
    "    ID, checksum = int(room[i:k]), room[k+1:-1]\n",
    "    \n",
    "    # Count chars, sort according to decreasing count and increasing alphabetical value\n",
    "    # Counter.items() is a list of tuples on the form (char, count)\n",
    "    c = sorted(Counter(room.replace('-', '')).items(), key=lambda x: (-x[1], x[0]))[:5]\n",
    "    if checksum == ''.join(char for char, count in c):\n",
    "        id_sum += ID\n",
    "        \n",
    "        decrypted.append(str(ID)+': ' + \n",
    "                         ' '.join(''.join(shift(char, ID) for char in word) for word in room[:i].split('-')))\n",
    "    \n",
    "    \n",
    "print('ID sum:', id_sum)\n",
    "with open('decrypted.txt', 'w') as f:\n",
    "    f.write('\\n'.join(decrypted))\n",
    "!grep 'north' decrypted.txt"
   ]
  }
 ],
 "metadata": {
  "kernelspec": {
   "display_name": "Python 3",
   "language": "python",
   "name": "python3"
  },
  "language_info": {
   "codemirror_mode": {
    "name": "ipython",
    "version": 3
   },
   "file_extension": ".py",
   "mimetype": "text/x-python",
   "name": "python",
   "nbconvert_exporter": "python",
   "pygments_lexer": "ipython3",
   "version": "3.5.2"
  }
 },
 "nbformat": 4,
 "nbformat_minor": 1
}
