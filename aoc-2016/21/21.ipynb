{
 "cells": [
  {
   "cell_type": "code",
   "execution_count": 75,
   "metadata": {
    "collapsed": true
   },
   "outputs": [],
   "source": [
    "with open('input.txt', 'r') as f:\n",
    "    operations = f.read().strip().split('\\n')"
   ]
  },
  {
   "cell_type": "code",
   "execution_count": 76,
   "metadata": {
    "collapsed": false
   },
   "outputs": [],
   "source": [
    "def swap(s, i, j):\n",
    "    i, j = min(i, j), max(i, j)\n",
    "    return ''.join([s[:i], s[j], s[i+1:j], s[i], s[j+1:]])\n",
    "\n",
    "def shift_left(s, n):\n",
    "    return s[n:] + s[:n]\n",
    "\n",
    "def reverse(s, i, j):\n",
    "    i, j = min(i, j), max(i, j)\n",
    "    return ''.join([s[:i]] + list(reversed(s[i:j+1])) + [s[j+1:]])\n",
    "\n",
    "\n",
    "def scramble(password, operations):\n",
    "    starting_length = len(password)\n",
    "    \n",
    "    for operation in operations:\n",
    "        op, *words = operation.split()\n",
    "\n",
    "        if op == 'swap':\n",
    "            i, j = words[1], words[-1]\n",
    "            if words[0] == 'letter':\n",
    "                i, j = password.index(i), password.index(j)\n",
    "            else:\n",
    "                i, j = int(i), int(j)\n",
    "            password = swap(password, i, j)\n",
    "\n",
    "        elif op == 'rotate':\n",
    "\n",
    "            if words[0] == 'based':\n",
    "                letter = words[-1]\n",
    "                i = password.index(letter)\n",
    "                password = shift_left(password, -1)\n",
    "                password = shift_left(password, -i)\n",
    "                password = shift_left(password, -int(i >= 4))\n",
    "                \n",
    "            else:\n",
    "                direction = 1 if words[0] == 'left' else -1\n",
    "                amount = int(words[1]) * direction\n",
    "                password = shift_left(password, amount)\n",
    "\n",
    "        elif op == 'reverse':\n",
    "            i, j = int(words[1]), int(words[-1])\n",
    "            password = reverse(password, i, j)\n",
    "\n",
    "        elif op == 'move':\n",
    "            i, j = int(words[1]), int(words[-1])\n",
    "            char, password = password[i], password[:i] + password[i+1:]\n",
    "            password = password[:j] + char + password[j:]\n",
    "\n",
    "        #print('Operation: %7s -> password: %s' % (op, password))\n",
    "        if len(password) != starting_length:\n",
    "            print('LOSS!')\n",
    "            break\n",
    "    return password"
   ]
  },
  {
   "cell_type": "code",
   "execution_count": 77,
   "metadata": {
    "collapsed": false
   },
   "outputs": [
    {
     "data": {
      "text/plain": [
       "'fdhbcgea'"
      ]
     },
     "execution_count": 77,
     "metadata": {},
     "output_type": "execute_result"
    }
   ],
   "source": [
    "scramble('abcdefgh', operations)"
   ]
  },
  {
   "cell_type": "markdown",
   "metadata": {},
   "source": [
    "## Unscramble"
   ]
  },
  {
   "cell_type": "code",
   "execution_count": 81,
   "metadata": {
    "collapsed": false
   },
   "outputs": [
    {
     "name": "stdout",
     "output_type": "stream",
     "text": [
      "egfbcadh\n"
     ]
    }
   ],
   "source": [
    "scrambled = 'fbgdceah'\n",
    "\n",
    "from itertools import permutations\n",
    "\n",
    "for password in permutations(scrambled):\n",
    "    password = ''.join(password)\n",
    "    if scramble(password, operations) == scrambled:\n",
    "        print(password)\n",
    "        break"
   ]
  },
  {
   "cell_type": "code",
   "execution_count": 82,
   "metadata": {
    "collapsed": false
   },
   "outputs": [
    {
     "data": {
      "text/plain": [
       "'fbgdceah'"
      ]
     },
     "execution_count": 82,
     "metadata": {},
     "output_type": "execute_result"
    }
   ],
   "source": [
    "scramble('egfbcadh', operations)"
   ]
  },
  {
   "cell_type": "code",
   "execution_count": null,
   "metadata": {
    "collapsed": true
   },
   "outputs": [],
   "source": []
  }
 ],
 "metadata": {
  "kernelspec": {
   "display_name": "Python 3",
   "language": "python",
   "name": "python3"
  },
  "language_info": {
   "codemirror_mode": {
    "name": "ipython",
    "version": 3
   },
   "file_extension": ".py",
   "mimetype": "text/x-python",
   "name": "python",
   "nbconvert_exporter": "python",
   "pygments_lexer": "ipython3",
   "version": "3.5.2"
  }
 },
 "nbformat": 4,
 "nbformat_minor": 1
}
