{
 "cells": [
  {
   "cell_type": "code",
   "execution_count": 55,
   "metadata": {
    "collapsed": false
   },
   "outputs": [
    {
     "name": "stdout",
     "output_type": "stream",
     "text": [
      "['bot 127 gives low to output 1 and high to bot 180',\n",
      " 'bot 139 gives low to bot 66 and high to bot 161',\n",
      " 'bot 171 gives low to bot 34 and high to bot 177',\n",
      " 'bot 160 gives low to bot 32 and high to bot 98',\n",
      " 'bot 3 gives low to bot 140 and high to bot 186']\n"
     ]
    }
   ],
   "source": [
    "with open('input.txt', 'r') as f:\n",
    "    instrucitons = f.read().strip().split('\\n')\n",
    "__import__('pprint').pprint(instrucitons[:5])\n"
   ]
  },
  {
   "cell_type": "code",
   "execution_count": 56,
   "metadata": {
    "collapsed": false
   },
   "outputs": [],
   "source": [
    "class Bot(object):\n",
    "    def __init__(self, ID):\n",
    "        self.ID = ID\n",
    "        self.chips = []\n",
    "    \n",
    "    def receive(self, value):\n",
    "        self.chips.append(value)\n",
    "    \n",
    "    def give(self, low_bot, high_bot):\n",
    "        if len(self.chips) < 2: \n",
    "            return False\n",
    "        \n",
    "        low, high = sorted([self.chips.pop(0), self.chips.pop(0)])\n",
    "        \n",
    "        if low == 17 and high == 61:\n",
    "            print(self, 'handled 17 and 61')\n",
    "        \n",
    "        low_bot.receive(low)\n",
    "        high_bot.receive(high)\n",
    "        return True\n",
    "        \n",
    "    def __repr__(self):\n",
    "        return 'Bot[%d]=' % self.ID + str(self.chips)"
   ]
  },
  {
   "cell_type": "code",
   "execution_count": 57,
   "metadata": {
    "collapsed": false
   },
   "outputs": [
    {
     "name": "stdout",
     "output_type": "stream",
     "text": [
      "Bot[98]=[] handled 17 and 61\n"
     ]
    }
   ],
   "source": [
    "n_bots = range(210)\n",
    "n_outputs = range(21)\n",
    "bots = dict(zip(n_bots, map(Bot, n_bots)))\n",
    "outputs = dict(zip(n_outputs, map(Bot, n_outputs)))\n",
    "queue = set()\n",
    "\n",
    "# Do value inserts and queue give operations.\n",
    "for instruciton in instrucitons:\n",
    "    words = instruciton.split()\n",
    "    \n",
    "    if words[0] == 'value':\n",
    "        # Give value to bot    \n",
    "        value, bot_id = (int(i) for i in [words[1], words[-1]])\n",
    "        bots[bot_id].receive(value)\n",
    "    else:\n",
    "        # Add give operation to queue\n",
    "        giver_id, low_id, high_id = (int(i) for i in [words[1], words[6], words[-1]])\n",
    "        if words[5] == 'output':\n",
    "            low_bot = outputs[low_id]\n",
    "        else:\n",
    "            low_bot = bots[low_id]\n",
    "        if words[-1] == 'output':\n",
    "            high_bot = outputs[high_id]\n",
    "        else:\n",
    "            high_bot = bots[high_id]\n",
    "        queue.add((bots[giver_id], low_bot, high_bot))\n",
    "\n",
    "# Empty the queue. If one operation is not ready, put back in the queue.        \n",
    "while queue: \n",
    "    giver, low_bot, high_bot = queue.pop()\n",
    "    if not giver.give(low_bot, high_bot):\n",
    "        queue.add((giver, low_bot, high_bot))    "
   ]
  },
  {
   "cell_type": "code",
   "execution_count": 62,
   "metadata": {
    "collapsed": false
   },
   "outputs": [
    {
     "data": {
      "text/plain": [
       "4042"
      ]
     },
     "execution_count": 62,
     "metadata": {},
     "output_type": "execute_result"
    }
   ],
   "source": [
    "from functools import reduce\n",
    "reduce(lambda x, y: x*y, [outputs[i].chips[0] for i in range(3)])"
   ]
  }
 ],
 "metadata": {
  "kernelspec": {
   "display_name": "Python 3",
   "language": "python",
   "name": "python3"
  },
  "language_info": {
   "codemirror_mode": {
    "name": "ipython",
    "version": 3
   },
   "file_extension": ".py",
   "mimetype": "text/x-python",
   "name": "python",
   "nbconvert_exporter": "python",
   "pygments_lexer": "ipython3",
   "version": "3.5.2"
  }
 },
 "nbformat": 4,
 "nbformat_minor": 1
}
