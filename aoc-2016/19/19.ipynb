{
 "cells": [
  {
   "cell_type": "code",
   "execution_count": 22,
   "metadata": {
    "collapsed": true
   },
   "outputs": [],
   "source": [
    "import math\n",
    "def safe(n, k=2):\n",
    "    return 2 * (n - 2**math.floor(math.log(n, 2))) + 1"
   ]
  },
  {
   "cell_type": "code",
   "execution_count": 26,
   "metadata": {
    "collapsed": false
   },
   "outputs": [
    {
     "data": {
      "text/plain": [
       "1815603"
      ]
     },
     "execution_count": 26,
     "metadata": {},
     "output_type": "execute_result"
    }
   ],
   "source": [
    "safe(3004953)"
   ]
  },
  {
   "cell_type": "markdown",
   "metadata": {},
   "source": [
    "## V2\n",
    "\n",
    "First attempt: use a deque, and re-append skipped elfs to the end of the list (emulated circle). Append and pop is $\\mathcal{O}(1)$, but need $n\\times k$ of them, so solution is $\\mathcal{O}(n\\times k)$. Ok for $k \\ll n$, but here we have $k = n/2$ which gives a quadratic solution. No good for massive input."
   ]
  },
  {
   "cell_type": "code",
   "execution_count": 12,
   "metadata": {
    "collapsed": true
   },
   "outputs": [],
   "source": [
    "from collections import deque\n",
    "def f(n, k):\n",
    "    \"\"\"k = constant\"\"\"\n",
    "    elfs = deque(range(1, n+1))\n",
    "    \n",
    "    for steal_round in range(n-1):\n",
    "        for skipped_elf in range(k-1):\n",
    "            elfs.append(elfs.popleft())\n",
    "        elfs.popleft()\n",
    "    return elfs.popleft()"
   ]
  },
  {
   "cell_type": "code",
   "execution_count": 13,
   "metadata": {
    "collapsed": true
   },
   "outputs": [],
   "source": [
    "from collections import deque\n",
    "def f(n):\n",
    "    \"\"\"k = n/2, does not handle odd/even correct, so does not work\"\"\"\n",
    "    elfs = deque(range(1, n+1))\n",
    "    \n",
    "    for steal_round in range(n-1):\n",
    "        k = (n-steal_round)//2\n",
    "        print(elfs, n-steal_round, k)\n",
    "        for skipped_elf in range(k):\n",
    "            elfs.append(elfs.popleft())\n",
    "        elfs.popleft()\n",
    "    return elfs.popleft()"
   ]
  },
  {
   "cell_type": "code",
   "execution_count": 14,
   "metadata": {
    "collapsed": false
   },
   "outputs": [
    {
     "name": "stdout",
     "output_type": "stream",
     "text": [
      "deque([1, 2, 3, 4, 5]) 5 2\n",
      "deque([4, 5, 1, 2]) 4 2\n",
      "deque([2, 4, 5]) 3 1\n",
      "deque([5, 2]) 2 1\n"
     ]
    },
    {
     "data": {
      "text/plain": [
       "5"
      ]
     },
     "execution_count": 14,
     "metadata": {},
     "output_type": "execute_result"
    }
   ],
   "source": [
    "f(5)"
   ]
  },
  {
   "cell_type": "markdown",
   "metadata": {},
   "source": [
    "## Working $\\mathcal{O}(n)$ solution!\n",
    "\n",
    "The idea: Set up elves in a linked list, and keep a pointer to both the stealer and the target. Remove the target, and advance the stealer one place. Also let the target skip over one elf in the case that the number of remaining elves are even. Also handle what happens in the end, if target and stealer becomes the same (stealer remains, target jumps to the other).\n",
    "\n",
    "Removal with stored pointers are implemented $\\mathcal{O}(1)$, and only $n-1$ of them are needed (the number of steals that happens). Still slow, as the input is very large, and the constant factor is considerable. But more than fast enough!"
   ]
  },
  {
   "cell_type": "code",
   "execution_count": 15,
   "metadata": {
    "collapsed": false
   },
   "outputs": [],
   "source": [
    "class Elf(object):\n",
    "    def __init__(self, place):\n",
    "        self.place = place\n",
    "    def __str__(self):\n",
    "        return str(self.place)\n",
    "    \n",
    "\n",
    "\n",
    "class ElfCircle(object):\n",
    "    def __init__(self, n_elfs):\n",
    "        head = Elf(1)\n",
    "        elf = head\n",
    "        for place in range(2, n_elfs+1):\n",
    "            elf.left = Elf(place)\n",
    "            elf.left.right = elf\n",
    "            elf = elf.left\n",
    "        elf.left = head\n",
    "        head.right = elf\n",
    "        \n",
    "        self.head = head\n",
    "        self.n_elfs = n_elfs\n",
    "        \n",
    "    def remove_elf(self, elf):\n",
    "        if elf == self.head:\n",
    "            self.head = elf.left\n",
    "        elf.right.left = elf.left\n",
    "        elf.left.right = elf.right\n",
    "        self.n_elfs -= 1\n",
    "        return elf.left\n",
    "    \n",
    "    def __len__(self):\n",
    "        return self.n_elfs\n",
    "    \n",
    "    def __getitem__(self, i):  # Make it iterable!\n",
    "        if not 0 <= i < len(self):\n",
    "            raise IndexError(i)\n",
    "        elf = self.head\n",
    "        for _ in range(i):\n",
    "            elf = elf.left\n",
    "        return elf\n",
    "    \n",
    "    def __str__(self):\n",
    "        return '->'.join(str(elf) for elf in self)  # Iterator is nice to have\n",
    "        "
   ]
  },
  {
   "cell_type": "code",
   "execution_count": 17,
   "metadata": {
    "collapsed": false
   },
   "outputs": [
    {
     "name": "stdout",
     "output_type": "stream",
     "text": [
      "Seating all the elfs in a circle...Seated!\n",
      "Starting the stealing...\n",
      "The winning elf is number: 1410630\n"
     ]
    }
   ],
   "source": [
    "n_elfs = 3004953\n",
    "print('Seating all the elfs in a circle...', end='')\n",
    "circle = ElfCircle(n_elfs)\n",
    "print('Seated!\\nStarting the stealing...')\n",
    "\n",
    "stealer = circle[0]\n",
    "target = circle[n_elfs//2]\n",
    "\n",
    "for steal_round in range(n_elfs-1):\n",
    "    target = circle.remove_elf(target)\n",
    "\n",
    "    if len(circle) % 2 == 0:\n",
    "        target = target.left\n",
    "    stealer = stealer.left\n",
    "    if stealer == target:\n",
    "        target = target.left\n",
    "\n",
    "print('The winning elf is number:', circle)"
   ]
  },
  {
   "cell_type": "code",
   "execution_count": null,
   "metadata": {
    "collapsed": true
   },
   "outputs": [],
   "source": []
  }
 ],
 "metadata": {
  "kernelspec": {
   "display_name": "Python 3",
   "language": "python",
   "name": "python3"
  },
  "language_info": {
   "codemirror_mode": {
    "name": "ipython",
    "version": 3
   },
   "file_extension": ".py",
   "mimetype": "text/x-python",
   "name": "python",
   "nbconvert_exporter": "python",
   "pygments_lexer": "ipython3",
   "version": "3.5.2"
  }
 },
 "nbformat": 4,
 "nbformat_minor": 1
}
