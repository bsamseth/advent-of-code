{
 "cells": [
  {
   "cell_type": "code",
   "execution_count": 1,
   "metadata": {
    "collapsed": false
   },
   "outputs": [
    {
     "name": "stdout",
     "output_type": "stream",
     "text": [
      "['iyeajeby', 'qengiuoe', 'wxzardgo', 'jciguemn', 'zcampkps']\n"
     ]
    }
   ],
   "source": [
    "with open('input.txt', 'r') as f:\n",
    "    messages = f.read().strip().split('\\n')\n",
    "\n",
    "print(messages[:5])"
   ]
  },
  {
   "cell_type": "code",
   "execution_count": 9,
   "metadata": {
    "collapsed": false
   },
   "outputs": [
    {
     "name": "stdout",
     "output_type": "stream",
     "text": [
      "The error-corrected message is: 'ygjzvzib'\n"
     ]
    }
   ],
   "source": [
    "from collections import Counter\n",
    "password = ''.join(Counter(column).most_common(1)[0][0] for column in zip(*messages))\n",
    "print('The error-corrected message is:', repr(password))"
   ]
  },
  {
   "cell_type": "markdown",
   "metadata": {},
   "source": [
    "## Now find the least common char in each column"
   ]
  },
  {
   "cell_type": "code",
   "execution_count": 15,
   "metadata": {
    "collapsed": false
   },
   "outputs": [
    {
     "name": "stdout",
     "output_type": "stream",
     "text": [
      "The error-corrected, actual message is: 'pdesmnoz'\n"
     ]
    }
   ],
   "source": [
    "password = ''.join(sorted(Counter(column).most_common(), key=lambda x: x[1])[0][0] for column in zip(*messages))\n",
    "print('The error-corrected, actual message is:', repr(password))"
   ]
  },
  {
   "cell_type": "code",
   "execution_count": null,
   "metadata": {
    "collapsed": true
   },
   "outputs": [],
   "source": []
  }
 ],
 "metadata": {
  "kernelspec": {
   "display_name": "Python 3",
   "language": "python",
   "name": "python3"
  },
  "language_info": {
   "codemirror_mode": {
    "name": "ipython",
    "version": 3
   },
   "file_extension": ".py",
   "mimetype": "text/x-python",
   "name": "python",
   "nbconvert_exporter": "python",
   "pygments_lexer": "ipython3",
   "version": "3.5.2"
  }
 },
 "nbformat": 4,
 "nbformat_minor": 1
}
