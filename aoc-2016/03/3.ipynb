{
 "cells": [
  {
   "cell_type": "markdown",
   "metadata": {},
   "source": [
    "## Number of possible triangles"
   ]
  },
  {
   "cell_type": "code",
   "execution_count": 2,
   "metadata": {
    "collapsed": false
   },
   "outputs": [
    {
     "name": "stdout",
     "output_type": "stream",
     "text": [
      "[[330, 143, 338], [769, 547, 83], [930, 625, 317]]\n"
     ]
    }
   ],
   "source": [
    "with open('input.txt', 'r') as f:\n",
    "    triangles = [[int(i) for i in line.split()] for line in f]\n",
    "print(triangles[:3])"
   ]
  },
  {
   "cell_type": "code",
   "execution_count": 15,
   "metadata": {
    "collapsed": false
   },
   "outputs": [
    {
     "name": "stdout",
     "output_type": "stream",
     "text": [
      "917\n"
     ]
    }
   ],
   "source": [
    "def count_possible(triangles):\n",
    "    count = 0\n",
    "    for triangle in triangles:\n",
    "        s = sum(triangle)\n",
    "        for side in triangle:\n",
    "            if s - side <= side:\n",
    "                break\n",
    "        else:\n",
    "            count += 1\n",
    "    return count\n",
    "\n",
    "print(count_possible(triangles))"
   ]
  },
  {
   "cell_type": "markdown",
   "metadata": {},
   "source": [
    "Triangles are now read in groups of three numbers _vertically_. Same question, different input."
   ]
  },
  {
   "cell_type": "code",
   "execution_count": 19,
   "metadata": {
    "collapsed": false
   },
   "outputs": [
    {
     "name": "stdout",
     "output_type": "stream",
     "text": [
      "1649\n"
     ]
    }
   ],
   "source": [
    "import numpy as np\n",
    "new_triangles = []\n",
    "for i in range(0, len(triangles)-3 + 1, 3):\n",
    "    new_triangles += list(np.array(triangles[i:i+3], dtype=int).T)  # Transpose local group of three.\n",
    "\n",
    "print(count_possible(new_triangles))"
   ]
  },
  {
   "cell_type": "code",
   "execution_count": null,
   "metadata": {
    "collapsed": true
   },
   "outputs": [],
   "source": []
  }
 ],
 "metadata": {
  "kernelspec": {
   "display_name": "Python 3",
   "language": "python",
   "name": "python3"
  },
  "language_info": {
   "codemirror_mode": {
    "name": "ipython",
    "version": 3
   },
   "file_extension": ".py",
   "mimetype": "text/x-python",
   "name": "python",
   "nbconvert_exporter": "python",
   "pygments_lexer": "ipython3",
   "version": "3.5.2"
  }
 },
 "nbformat": 4,
 "nbformat_minor": 1
}
