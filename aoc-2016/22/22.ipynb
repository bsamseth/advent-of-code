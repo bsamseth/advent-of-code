{
 "cells": [
  {
   "cell_type": "code",
   "execution_count": 1,
   "metadata": {
    "collapsed": false,
    "deletable": true,
    "editable": true
   },
   "outputs": [
    {
     "data": {
      "text/plain": [
       "['/dev/grid/node-x0-y0   10T    8T     2T   80%',\n",
       " '/dev/grid/node-x0-y1   11T    6T     5T   54%',\n",
       " '/dev/grid/node-x0-y2   32T   28T     4T   87%']"
      ]
     },
     "execution_count": 1,
     "metadata": {},
     "output_type": "execute_result"
    }
   ],
   "source": [
    "with open('test_input.txt', 'r') as f:\n",
    "    lines = f.read().strip().split('\\n')[2:]\n",
    "lines[:3]  # Showing the type of input"
   ]
  },
  {
   "cell_type": "code",
   "execution_count": 3,
   "metadata": {
    "collapsed": false,
    "deletable": true,
    "editable": true
   },
   "outputs": [
    {
     "name": "stdout",
     "output_type": "stream",
     "text": [
      "Number of viable pairs: 7\n"
     ]
    }
   ],
   "source": [
    "import re\n",
    "from collections import namedtuple\n",
    "from itertools import permutations\n",
    "\n",
    "Node = namedtuple('Node', ['coord', 'size', 'used', 'avail'])\n",
    "nodes = []\n",
    "for line in lines:\n",
    "    name, size, used, avail, *rest = line.split()\n",
    "    \n",
    "    coord = tuple(int(i) for i in re.search('x(\\d+)-y(\\d+)', name).groups())\n",
    "    size, used, avail = [int(i[:-1]) for i in (size, used, avail)]\n",
    "    nodes.append(Node(coord, size, used, avail))\n",
    "\n",
    "pairs = [(A, B) for A, B in permutations(nodes, r=2) if 0 < A.used <= B.avail]\n",
    "\n",
    "print('Number of viable pairs:', len(pairs))"
   ]
  },
  {
   "cell_type": "code",
   "execution_count": 4,
   "metadata": {
    "collapsed": false,
    "deletable": true,
    "editable": true
   },
   "outputs": [
    {
     "data": {
      "text/plain": [
       "[(Node(coord=(0, 0), size=10, used=8, avail=2),\n",
       "  Node(coord=(1, 1), size=8, used=0, avail=8)),\n",
       " (Node(coord=(0, 1), size=11, used=6, avail=5),\n",
       "  Node(coord=(1, 1), size=8, used=0, avail=8)),\n",
       " (Node(coord=(1, 0), size=9, used=7, avail=2),\n",
       "  Node(coord=(1, 1), size=8, used=0, avail=8)),\n",
       " (Node(coord=(1, 2), size=11, used=7, avail=4),\n",
       "  Node(coord=(1, 1), size=8, used=0, avail=8)),\n",
       " (Node(coord=(2, 0), size=10, used=6, avail=4),\n",
       "  Node(coord=(1, 1), size=8, used=0, avail=8)),\n",
       " (Node(coord=(2, 1), size=9, used=8, avail=1),\n",
       "  Node(coord=(1, 1), size=8, used=0, avail=8)),\n",
       " (Node(coord=(2, 2), size=9, used=6, avail=3),\n",
       "  Node(coord=(1, 1), size=8, used=0, avail=8))]"
      ]
     },
     "execution_count": 4,
     "metadata": {},
     "output_type": "execute_result"
    }
   ],
   "source": [
    "pairs"
   ]
  },
  {
   "cell_type": "code",
   "execution_count": 5,
   "metadata": {
    "collapsed": false,
    "deletable": true,
    "editable": true
   },
   "outputs": [
    {
     "data": {
      "text/plain": [
       "[Node(coord=(0, 0), size=10, used=8, avail=2),\n",
       " Node(coord=(0, 1), size=11, used=6, avail=5),\n",
       " Node(coord=(0, 2), size=32, used=28, avail=4),\n",
       " Node(coord=(1, 0), size=9, used=7, avail=2),\n",
       " Node(coord=(1, 1), size=8, used=0, avail=8),\n",
       " Node(coord=(1, 2), size=11, used=7, avail=4),\n",
       " Node(coord=(2, 0), size=10, used=6, avail=4),\n",
       " Node(coord=(2, 1), size=9, used=8, avail=1),\n",
       " Node(coord=(2, 2), size=9, used=6, avail=3)]"
      ]
     },
     "execution_count": 5,
     "metadata": {},
     "output_type": "execute_result"
    }
   ],
   "source": [
    "nodes"
   ]
  },
  {
   "cell_type": "markdown",
   "metadata": {
    "deletable": true,
    "editable": true
   },
   "source": [
    "## Part 2"
   ]
  },
  {
   "cell_type": "code",
   "execution_count": 6,
   "metadata": {
    "collapsed": false,
    "deletable": true,
    "editable": true
   },
   "outputs": [
    {
     "ename": "SyntaxError",
     "evalue": "invalid syntax (<ipython-input-6-76a1074dda93>, line 15)",
     "output_type": "error",
     "traceback": [
      "\u001b[0;36m  File \u001b[0;32m\"<ipython-input-6-76a1074dda93>\"\u001b[0;36m, line \u001b[0;32m15\u001b[0m\n\u001b[0;31m    elif hole.coord[0]\u001b[0m\n\u001b[0m                      ^\u001b[0m\n\u001b[0;31mSyntaxError\u001b[0m\u001b[0;31m:\u001b[0m invalid syntax\n"
     ]
    }
   ],
   "source": [
    "def dist(A, B):\n",
    "    \"\"\"Taxi-driver distance\"\"\"\n",
    "    return abs(B[0] - A[0]) + abs(B[1] - A[1])\n",
    "\n",
    "def move_hole(hole, G, node_grid):\n",
    "    Gx, Gy = G.coord\n",
    "    target = (Gx-1, Gy)\n",
    "    \n",
    "    while hole.coord != target:\n",
    "        \n",
    "        if hole.coord[0] >= Gx and hole.coord[1] > Gy:\n",
    "            hole = node_grid[hole.coord[0]-1][hole.coord[1]]\n",
    "        elif hole.coord[1] > Gy and hole.coord[0] < Gx:\n",
    "            hole = node_grid[hole.coord[0]][hole.coord[1]-1]\n",
    "        elif hole.coord[0]\n",
    "\n",
    "            \n",
    "\n",
    "G, *_ = [node for node in nodes if node.coord == (maxx, 0)]\n",
    "T = nodes[0]\n",
    "\n",
    "maxx, maxy = nodes[-1].coord\n",
    "node_grid =[nodes[i*(maxy+1):i*(maxy+1)+ maxy+1] for i in range(maxx+1)]\n",
    "\n",
    "steps = 0\n",
    "while G.coord != T.coord:\n",
    "    holes = [B for A, B in permutations(nodes, r=2) if A == G and 0 < A.used <= B.avail]\n",
    "    closest_hole = next(sorted(holes, key=lambda A: dist(A.coord, (G.coord[0]-1, G.coord[1]))))\n",
    "    move_hole(closest_hole, G, nodes)"
   ]
  },
  {
   "cell_type": "code",
   "execution_count": 75,
   "metadata": {
    "collapsed": false,
    "deletable": true,
    "editable": true
   },
   "outputs": [
    {
     "data": {
      "text/plain": [
       "(Node(coord=(2, 0), size=10, used=6, avail=4),\n",
       " Node(coord=(0, 0), size=10, used=8, avail=2))"
      ]
     },
     "execution_count": 75,
     "metadata": {},
     "output_type": "execute_result"
    }
   ],
   "source": [
    "G, T"
   ]
  },
  {
   "cell_type": "code",
   "execution_count": 76,
   "metadata": {
    "collapsed": false,
    "deletable": true,
    "editable": true
   },
   "outputs": [
    {
     "data": {
      "text/plain": [
       "[Node(coord=(1, 1), size=8, used=0, avail=8)]"
      ]
     },
     "execution_count": 76,
     "metadata": {},
     "output_type": "execute_result"
    }
   ],
   "source": [
    "holes"
   ]
  },
  {
   "cell_type": "code",
   "execution_count": 77,
   "metadata": {
    "collapsed": false,
    "deletable": true,
    "editable": true
   },
   "outputs": [
    {
     "data": {
      "text/plain": [
       "[[Node(coord=(0, 0), size=10, used=8, avail=2),\n",
       "  Node(coord=(0, 1), size=11, used=6, avail=5),\n",
       "  Node(coord=(0, 2), size=32, used=28, avail=4)],\n",
       " [Node(coord=(1, 0), size=9, used=7, avail=2),\n",
       "  Node(coord=(1, 1), size=8, used=0, avail=8),\n",
       "  Node(coord=(1, 2), size=11, used=7, avail=4)],\n",
       " [Node(coord=(2, 0), size=10, used=6, avail=4),\n",
       "  Node(coord=(2, 1), size=9, used=8, avail=1),\n",
       "  Node(coord=(2, 2), size=9, used=6, avail=3)]]"
      ]
     },
     "execution_count": 77,
     "metadata": {},
     "output_type": "execute_result"
    }
   ],
   "source": [
    "node_grid"
   ]
  },
  {
   "cell_type": "code",
   "execution_count": null,
   "metadata": {
    "collapsed": true,
    "deletable": true,
    "editable": true
   },
   "outputs": [],
   "source": []
  }
 ],
 "metadata": {
  "kernelspec": {
   "display_name": "Python 3",
   "language": "python",
   "name": "python3"
  },
  "language_info": {
   "codemirror_mode": {
    "name": "ipython",
    "version": 3
   },
   "file_extension": ".py",
   "mimetype": "text/x-python",
   "name": "python",
   "nbconvert_exporter": "python",
   "pygments_lexer": "ipython3",
   "version": "3.6.0"
  }
 },
 "nbformat": 4,
 "nbformat_minor": 1
}
