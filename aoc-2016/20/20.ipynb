{
 "cells": [
  {
   "cell_type": "code",
   "execution_count": 1,
   "metadata": {
    "collapsed": true
   },
   "outputs": [],
   "source": [
    "import numpy as np"
   ]
  },
  {
   "cell_type": "code",
   "execution_count": 8,
   "metadata": {
    "collapsed": false
   },
   "outputs": [
    {
     "name": "stdout",
     "output_type": "stream",
     "text": [
      "All set, looking for first possible...\n",
      "22887907\n"
     ]
    }
   ],
   "source": [
    "ranges = np.loadtxt('input.txt', delimiter='-', dtype=int)\n",
    "\n",
    "allowed = np.ones(4294967295, dtype=bool)\n",
    "\n",
    "for lo, hi in ranges:\n",
    "    allowed[lo: hi+1] = False\n",
    "\n",
    "print('All set, looking for first possible...')\n",
    "for i in range(len(allowed)):\n",
    "    if allowed[i]:\n",
    "        print(i)\n",
    "        break"
   ]
  },
  {
   "cell_type": "code",
   "execution_count": 9,
   "metadata": {
    "collapsed": false
   },
   "outputs": [
    {
     "name": "stdout",
     "output_type": "stream",
     "text": [
      "Total allowed: 109\n"
     ]
    }
   ],
   "source": [
    "print('Total allowed:', np.sum(allowed))"
   ]
  },
  {
   "cell_type": "code",
   "execution_count": null,
   "metadata": {
    "collapsed": true
   },
   "outputs": [],
   "source": []
  }
 ],
 "metadata": {
  "kernelspec": {
   "display_name": "Python 3",
   "language": "python",
   "name": "python3"
  },
  "language_info": {
   "codemirror_mode": {
    "name": "ipython",
    "version": 3
   },
   "file_extension": ".py",
   "mimetype": "text/x-python",
   "name": "python",
   "nbconvert_exporter": "python",
   "pygments_lexer": "ipython3",
   "version": "3.5.2"
  }
 },
 "nbformat": 4,
 "nbformat_minor": 1
}
