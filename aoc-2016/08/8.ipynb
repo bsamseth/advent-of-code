{
 "cells": [
  {
   "cell_type": "code",
   "execution_count": 2,
   "metadata": {
    "collapsed": false
   },
   "outputs": [
    {
     "name": "stdout",
     "output_type": "stream",
     "text": [
      "['rect 1x1',\n",
      " 'rotate row y=0 by 6',\n",
      " 'rect 1x1',\n",
      " 'rotate row y=0 by 3',\n",
      " 'rect 1x1',\n",
      " 'rotate row y=0 by 5',\n",
      " 'rect 1x1',\n",
      " 'rotate row y=0 by 4']\n"
     ]
    }
   ],
   "source": [
    "with open('input.txt', 'r') as f:\n",
    "    commands = f.read().strip().split('\\n')\n",
    "__import__('pprint').pprint(commands[:8])"
   ]
  },
  {
   "cell_type": "code",
   "execution_count": 25,
   "metadata": {
    "collapsed": true
   },
   "outputs": [],
   "source": [
    "class Display(object):\n",
    "    def __init__(self, width=50, height=6):\n",
    "        self.width, self.height = width, height\n",
    "        self.pixels = np.zeros((height, width), dtype=str)\n",
    "        self.pixels.fill('.')\n",
    "    \n",
    "    def turn_on(self, A, B):\n",
    "        self.pixels[:B, :A] = '#'\n",
    "    \n",
    "    def rotate_row(self, row, shift):\n",
    "        self.pixels[row] = np.roll(self.pixels[row], shift=shift)\n",
    "    \n",
    "    def rotate_col(self, col, shift):\n",
    "        self.pixels[:, col] = np.roll(self.pixels[:, col], shift=shift, axis=0)\n",
    "        \n",
    "    def __str__(self):\n",
    "        return str(self.pixels)"
   ]
  },
  {
   "cell_type": "code",
   "execution_count": 26,
   "metadata": {
    "collapsed": false
   },
   "outputs": [
    {
     "name": "stdout",
     "output_type": "stream",
     "text": [
      "Pixels lit after instructions: 116\n"
     ]
    }
   ],
   "source": [
    "display = Display()\n",
    "for command in commands:\n",
    "    cmd, *words = command.split()\n",
    "    if cmd == 'rect':\n",
    "        A, B = (int(i) for i in words[0].split('x'))\n",
    "        display.turn_on(A, B)\n",
    "    else:\n",
    "        axis = words[0]\n",
    "        idx = int(words[1][2:])\n",
    "        shift = int(words[-1])\n",
    "        if axis == 'row':\n",
    "            display.rotate_row(idx, shift)\n",
    "        else:  # col\n",
    "            display.rotate_col(idx, shift)\n",
    "print('Pixels lit after instructions:', np.sum(display.pixels == '#'))"
   ]
  },
  {
   "cell_type": "code",
   "execution_count": 27,
   "metadata": {
    "collapsed": false
   },
   "outputs": [
    {
     "name": "stdout",
     "output_type": "stream",
     "text": [
      "[['#' '.' '.' '#' '.']\n",
      " ['#' '.' '.' '#' '.']\n",
      " ['#' '.' '.' '#' '.']\n",
      " ['#' '.' '.' '#' '.']\n",
      " ['#' '.' '.' '#' '.']\n",
      " ['.' '#' '#' '.' '.']]\n",
      "[['#' '#' '#' '.' '.']\n",
      " ['#' '.' '.' '#' '.']\n",
      " ['#' '.' '.' '#' '.']\n",
      " ['#' '#' '#' '.' '.']\n",
      " ['#' '.' '.' '.' '.']\n",
      " ['#' '.' '.' '.' '.']]\n",
      "[['.' '#' '#' '.' '.']\n",
      " ['#' '.' '.' '#' '.']\n",
      " ['#' '.' '.' '#' '.']\n",
      " ['#' '.' '.' '#' '.']\n",
      " ['#' '.' '.' '#' '.']\n",
      " ['.' '#' '#' '.' '.']]\n",
      "[['.' '.' '#' '#' '.']\n",
      " ['.' '.' '.' '#' '.']\n",
      " ['.' '.' '.' '#' '.']\n",
      " ['.' '.' '.' '#' '.']\n",
      " ['#' '.' '.' '#' '.']\n",
      " ['.' '#' '#' '.' '.']]\n",
      "[['#' '#' '#' '#' '.']\n",
      " ['#' '.' '.' '.' '.']\n",
      " ['#' '#' '#' '.' '.']\n",
      " ['#' '.' '.' '.' '.']\n",
      " ['#' '.' '.' '.' '.']\n",
      " ['#' '.' '.' '.' '.']]\n",
      "[['#' '.' '.' '.' '.']\n",
      " ['#' '.' '.' '.' '.']\n",
      " ['#' '.' '.' '.' '.']\n",
      " ['#' '.' '.' '.' '.']\n",
      " ['#' '.' '.' '.' '.']\n",
      " ['#' '#' '#' '#' '.']]\n",
      "[['#' '#' '#' '.' '.']\n",
      " ['#' '.' '.' '#' '.']\n",
      " ['#' '#' '#' '.' '.']\n",
      " ['#' '.' '.' '#' '.']\n",
      " ['#' '.' '.' '#' '.']\n",
      " ['#' '#' '#' '.' '.']]\n",
      "[['.' '#' '#' '.' '.']\n",
      " ['#' '.' '.' '#' '.']\n",
      " ['#' '.' '.' '.' '.']\n",
      " ['#' '.' '.' '.' '.']\n",
      " ['#' '.' '.' '#' '.']\n",
      " ['.' '#' '#' '.' '.']]\n",
      "[['#' '#' '#' '#' '.']\n",
      " ['#' '.' '.' '.' '.']\n",
      " ['#' '#' '#' '.' '.']\n",
      " ['#' '.' '.' '.' '.']\n",
      " ['#' '.' '.' '.' '.']\n",
      " ['#' '#' '#' '#' '.']]\n",
      "[['#' '#' '#' '#' '.']\n",
      " ['.' '.' '.' '#' '.']\n",
      " ['.' '.' '#' '.' '.']\n",
      " ['.' '#' '.' '.' '.']\n",
      " ['#' '.' '.' '.' '.']\n",
      " ['#' '#' '#' '#' '.']]\n"
     ]
    }
   ],
   "source": [
    "for i in range(0, 50, 5):\n",
    "    print(display.pixels[:, i:i+5])"
   ]
  },
  {
   "cell_type": "markdown",
   "metadata": {},
   "source": [
    "The display shows the letters `UPOJFLBCEZ`."
   ]
  },
  {
   "cell_type": "code",
   "execution_count": null,
   "metadata": {
    "collapsed": true
   },
   "outputs": [],
   "source": []
  }
 ],
 "metadata": {
  "kernelspec": {
   "display_name": "Python 3",
   "language": "python",
   "name": "python3"
  },
  "language_info": {
   "codemirror_mode": {
    "name": "ipython",
    "version": 3
   },
   "file_extension": ".py",
   "mimetype": "text/x-python",
   "name": "python",
   "nbconvert_exporter": "python",
   "pygments_lexer": "ipython3",
   "version": "3.5.2"
  }
 },
 "nbformat": 4,
 "nbformat_minor": 1
}
