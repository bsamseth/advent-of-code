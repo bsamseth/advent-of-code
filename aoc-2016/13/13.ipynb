{
 "cells": [
  {
   "cell_type": "code",
   "execution_count": 1,
   "metadata": {
    "collapsed": false,
    "deletable": true,
    "editable": true
   },
   "outputs": [],
   "source": [
    "import gmpy2\n",
    "class Place(object):\n",
    "    def __init__(self, x, y, parent=None):\n",
    "        self.x, self.y, self.parent, self.dist = x, y, parent, float('inf')\n",
    "\n",
    "    @property\n",
    "    def is_space(self, fav_number=1350):\n",
    "        x, y = self.x, self.y\n",
    "        if x < 0 or y < 0:\n",
    "            return False\n",
    "        value = x*x + 3*x + 2*x*y + y + y*y + fav_number\n",
    "        one_bits = gmpy2.popcount(value)\n",
    "        return one_bits % 2 == 0\n",
    "    \n",
    "    @property\n",
    "    def coord(self):\n",
    "        return self.x, self.y\n",
    "    \n",
    "    def __add__(self, other):\n",
    "        return Place(self.x + other.x, self.y + other.y)"
   ]
  },
  {
   "cell_type": "code",
   "execution_count": 2,
   "metadata": {
    "collapsed": false,
    "deletable": true,
    "editable": true
   },
   "outputs": [],
   "source": [
    "from collections import deque\n",
    "def bfs(root=Place(1, 1)):\n",
    "    \n",
    "    visited = set()\n",
    "    root.dist = 0\n",
    "    queue = deque([root])\n",
    "    n_leq_50 = set()\n",
    "    \n",
    "    moves = [Place(1, 0), Place(0, 1), Place(-1, 0), Place(0, -1)]\n",
    "    \n",
    "    while queue:        \n",
    "        current = queue.popleft()\n",
    "        visited.add(current.coord)\n",
    "        \n",
    "        if current.dist <= 50:\n",
    "            n_leq_50.add(current.coord)\n",
    "\n",
    "        \n",
    "        if current.coord == (31, 39):\n",
    "            return current, n_leq_50\n",
    "\n",
    "        \n",
    "        for move in moves:\n",
    "            p = current + move\n",
    "            if p.is_space and not p.coord in visited:\n",
    "                p.dist = current.dist + 1\n",
    "                p.parent = current\n",
    "                queue.append(p)\n",
    "               "
   ]
  },
  {
   "cell_type": "code",
   "execution_count": 3,
   "metadata": {
    "collapsed": false,
    "deletable": true,
    "editable": true
   },
   "outputs": [],
   "source": [
    "target, n_leq_50 = bfs()"
   ]
  },
  {
   "cell_type": "code",
   "execution_count": 4,
   "metadata": {
    "collapsed": false,
    "deletable": true,
    "editable": true
   },
   "outputs": [
    {
     "name": "stdout",
     "output_type": "stream",
     "text": [
      "[(2, 1), (3, 1), (4, 1), (4, 2), (5, 2), (6, 2), (6, 3), (6, 4), (7, 4), (7, 5), (8, 5), (8, 6), (9, 6), (10, 6), (11, 6), (11, 7), (11, 8), (12, 8), (12, 9), (12, 10), (12, 11), (12, 12), (13, 12), (14, 12), (15, 12), (16, 12), (17, 12), (17, 13), (17, 14), (17, 15), (18, 15), (19, 15), (20, 15), (20, 14), (21, 14), (22, 14), (22, 15), (23, 15), (23, 16), (23, 17), (23, 18), (23, 19), (23, 20), (24, 20), (24, 21), (25, 21), (26, 21), (26, 20), (27, 20), (28, 20), (29, 20), (30, 20), (30, 21), (30, 22), (30, 23), (31, 23), (32, 23), (33, 23), (34, 23), (34, 24), (34, 25), (34, 26), (34, 27), (34, 28), (35, 28), (36, 28), (37, 28), (37, 29), (37, 30), (37, 31), (36, 31), (36, 32), (36, 33), (37, 33), (38, 33), (39, 33), (39, 34), (39, 35), (39, 36), (39, 37), (39, 38), (38, 38), (37, 38), (36, 38), (36, 39), (35, 39), (34, 39), (33, 39), (33, 40), (32, 40), (31, 40), (31, 39)]\n",
      "92\n",
      "124\n"
     ]
    }
   ],
   "source": [
    "path = []\n",
    "p = target\n",
    "while p.parent:\n",
    "    path.append(p)\n",
    "    p = p.parent\n",
    "path = path[::-1]\n",
    "\n",
    "print([p.coord for p in path])\n",
    "print(target.dist)\n",
    "print(len(n_leq_50))"
   ]
  },
  {
   "cell_type": "markdown",
   "metadata": {
    "deletable": true,
    "editable": true
   },
   "source": [
    "# Turtle Visualization!\n",
    "![title](img.png)"
   ]
  },
  {
   "cell_type": "code",
   "execution_count": 5,
   "metadata": {
    "collapsed": false,
    "deletable": true,
    "editable": true
   },
   "outputs": [],
   "source": [
    "import turtle\n",
    "\n",
    "def is_space(x, y, fav_number=1350):\n",
    "    value = x*x + 3*x + 2*x*y + y + y*y + fav_number\n",
    "    one_bits = gmpy2.popcount(value)\n",
    "    return one_bits % 2 == 0\n",
    "\n",
    "\n",
    "def draw_rect_in_place():\n",
    "    for _ in range(4):\n",
    "        t.forward(unit)\n",
    "        t.right(90)\n",
    "\n",
    "\n",
    "turtle.setup(720, 720)\n",
    "wn = turtle.Screen()\n",
    "t = turtle.Turtle()\n",
    "wn.tracer(0,0)\n",
    "t.speed(0)\n",
    "unit = 13\n",
    "\n",
    "# Draw the room, up to some given size.\n",
    "xmax = 50 + 1\n",
    "ymax = 50 + 1\n",
    "for y in range(ymax):\n",
    "    for x in range(xmax):\n",
    "        t.penup()\n",
    "        t.setx(-wn.window_width()//2 + x*unit)\n",
    "        t.sety(wn.window_height()//2 - y*unit)\n",
    "        t.pendown()\n",
    "        t.begin_fill()\n",
    "\n",
    "        if (x,y) == (31, 39) or (x,y) == (1,1):\n",
    "            draw_rect_in_place()\n",
    "            t.color('red')\n",
    "            t.end_fill()\n",
    "            t.color('black')\n",
    "        \n",
    "        elif not is_space(x, y):\n",
    "            for _ in range(4):\n",
    "                t.forward(unit)\n",
    "                t.right(90)\n",
    "            t.color('black')\n",
    "            t.end_fill()\n",
    "\n",
    "# Draw the path\n",
    "for p in path[:-1]:\n",
    "    x, y = p.coord\n",
    "    t.setx(-wn.window_width()//2 + x*unit)\n",
    "    t.sety(wn.window_height()//2 - y*unit)\n",
    "    t.begin_fill()\n",
    "    draw_rect_in_place()\n",
    "    t.color('yellow')\n",
    "    t.end_fill()\n",
    "\n",
    "turtle.update()\n",
    "turtle.getscreen().getcanvas().postscript(file=\"img.png\")\n",
    "turtle.exitonclick()"
   ]
  },
  {
   "cell_type": "code",
   "execution_count": null,
   "metadata": {
    "collapsed": true,
    "deletable": true,
    "editable": true
   },
   "outputs": [],
   "source": []
  }
 ],
 "metadata": {
  "kernelspec": {
   "display_name": "Python 3",
   "language": "python",
   "name": "python3"
  },
  "language_info": {
   "codemirror_mode": {
    "name": "ipython",
    "version": 3
   },
   "file_extension": ".py",
   "mimetype": "text/x-python",
   "name": "python",
   "nbconvert_exporter": "python",
   "pygments_lexer": "ipython3",
   "version": "3.6.0"
  }
 },
 "nbformat": 4,
 "nbformat_minor": 1
}
