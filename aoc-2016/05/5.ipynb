{
 "cells": [
  {
   "cell_type": "code",
   "execution_count": 4,
   "metadata": {
    "collapsed": true
   },
   "outputs": [],
   "source": [
    "import hashlib\n",
    "from itertools import count"
   ]
  },
  {
   "cell_type": "code",
   "execution_count": 16,
   "metadata": {
    "collapsed": false
   },
   "outputs": [
    {
     "name": "stdout",
     "output_type": "stream",
     "text": [
      "c\n",
      "c6\n",
      "c66\n",
      "c669\n",
      "c6697\n",
      "c6697b\n",
      "c6697b5\n",
      "c6697b55\n",
      "The password is: 'c6697b55'\n"
     ]
    }
   ],
   "source": [
    "password = ''\n",
    "door_id = 'ffykfhsq'\n",
    "for i in count():\n",
    "    if len(password) == 8: break\n",
    "    md5 = str(hashlib.md5(str(door_id + str(i)).encode('utf-8')).hexdigest())\n",
    "    if md5.startswith('00000'):\n",
    "        password += md5[5]\n",
    "        print(password)\n",
    "print('The password is:', repr(password))"
   ]
  },
  {
   "cell_type": "code",
   "execution_count": 22,
   "metadata": {
    "collapsed": false
   },
   "outputs": [
    {
     "name": "stdout",
     "output_type": "stream",
     "text": [
      "[None, None, None, None, None, None, 'a', None]\n",
      "[None, None, None, None, None, None, 'a', 'b']\n",
      "[None, None, None, None, None, '1', 'a', 'b']\n",
      "['8', None, None, None, None, '1', 'a', 'b']\n",
      "['8', None, None, '5', None, '1', 'a', 'b']\n",
      "['8', 'c', None, '5', None, '1', 'a', 'b']\n",
      "['8', 'c', None, '5', 'd', '1', 'a', 'b']\n",
      "['8', 'c', '3', '5', 'd', '1', 'a', 'b']\n",
      "The password is: '8c35d1ab'\n"
     ]
    }
   ],
   "source": [
    "password = [None]*8\n",
    "for i in count():\n",
    "    if not None in password: break\n",
    "    md5 = str(hashlib.md5(str(door_id + str(i)).encode('utf-8')).hexdigest())\n",
    "    if md5.startswith('00000'):\n",
    "        if md5[5].isnumeric():\n",
    "            idx = int(md5[5])\n",
    "            if idx < 8 and password[idx] == None:\n",
    "                password[idx] = md5[6]\n",
    "                print(password)\n",
    "print('The password is:', repr(''.join(password)))"
   ]
  }
 ],
 "metadata": {
  "kernelspec": {
   "display_name": "Python 3",
   "language": "python",
   "name": "python3"
  },
  "language_info": {
   "codemirror_mode": {
    "name": "ipython",
    "version": 3
   },
   "file_extension": ".py",
   "mimetype": "text/x-python",
   "name": "python",
   "nbconvert_exporter": "python",
   "pygments_lexer": "ipython3",
   "version": "3.5.2"
  }
 },
 "nbformat": 4,
 "nbformat_minor": 1
}
