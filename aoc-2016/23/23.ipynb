{
 "cells": [
  {
   "cell_type": "code",
   "execution_count": 35,
   "metadata": {
    "collapsed": false
   },
   "outputs": [
    {
     "name": "stdout",
     "output_type": "stream",
     "text": [
      "['cpy a b',\n",
      " 'dec b',\n",
      " 'cpy a d',\n",
      " 'cpy 0 a',\n",
      " 'cpy b c',\n",
      " 'inc a',\n",
      " 'dec c',\n",
      " 'jnz c -2',\n",
      " 'dec d',\n",
      " 'jnz d -5',\n",
      " 'dec b',\n",
      " 'cpy b c',\n",
      " 'cpy c d',\n",
      " 'dec d',\n",
      " 'inc c',\n",
      " 'jnz d -2',\n",
      " 'tgl c',\n",
      " 'cpy -16 c',\n",
      " 'jnz 1 c',\n",
      " 'cpy 77 c',\n",
      " 'jnz 73 d',\n",
      " 'inc a',\n",
      " 'inc d',\n",
      " 'jnz d -2',\n",
      " 'inc c',\n",
      " 'jnz c -5']\n"
     ]
    },
    {
     "ename": "KeyboardInterrupt",
     "evalue": "",
     "output_type": "error",
     "traceback": [
      "\u001b[0;31m---------------------------------------------------------------------------\u001b[0m",
      "\u001b[0;31mKeyboardInterrupt\u001b[0m                         Traceback (most recent call last)",
      "\u001b[0;32m<ipython-input-35-e51a2a467ad0>\u001b[0m in \u001b[0;36m<module>\u001b[0;34m()\u001b[0m\n\u001b[1;32m     53\u001b[0m         \u001b[0mi\u001b[0m \u001b[0;34m+=\u001b[0m \u001b[0;36m1\u001b[0m\u001b[0;34m\u001b[0m\u001b[0m\n\u001b[1;32m     54\u001b[0m     \u001b[0;32mreturn\u001b[0m \u001b[0mreg\u001b[0m\u001b[0;34m\u001b[0m\u001b[0m\n\u001b[0;32m---> 55\u001b[0;31m \u001b[0mread_instructions\u001b[0m\u001b[0;34m(\u001b[0m\u001b[0minstructions\u001b[0m\u001b[0;34m,\u001b[0m \u001b[0mreg\u001b[0m\u001b[0;34m=\u001b[0m\u001b[0;34m{\u001b[0m\u001b[0;34m'a'\u001b[0m\u001b[0;34m:\u001b[0m \u001b[0;36m12\u001b[0m\u001b[0;34m,\u001b[0m \u001b[0;34m'b'\u001b[0m\u001b[0;34m:\u001b[0m \u001b[0;36m0\u001b[0m\u001b[0;34m,\u001b[0m \u001b[0;34m'c'\u001b[0m\u001b[0;34m:\u001b[0m \u001b[0;36m0\u001b[0m\u001b[0;34m,\u001b[0m \u001b[0;34m'd'\u001b[0m\u001b[0;34m:\u001b[0m \u001b[0;36m0\u001b[0m\u001b[0;34m}\u001b[0m\u001b[0;34m)\u001b[0m\u001b[0;34m\u001b[0m\u001b[0m\n\u001b[0m",
      "\u001b[0;32m<ipython-input-35-e51a2a467ad0>\u001b[0m in \u001b[0;36mread_instructions\u001b[0;34m(instructions, reg)\u001b[0m\n\u001b[1;32m     38\u001b[0m         \u001b[0;32melif\u001b[0m \u001b[0mcmd\u001b[0m \u001b[0;34m==\u001b[0m \u001b[0;34m'inc'\u001b[0m\u001b[0;34m:\u001b[0m\u001b[0;34m\u001b[0m\u001b[0m\n\u001b[1;32m     39\u001b[0m             \u001b[0;32mif\u001b[0m \u001b[0margs\u001b[0m\u001b[0;34m[\u001b[0m\u001b[0;36m0\u001b[0m\u001b[0;34m]\u001b[0m \u001b[0;32min\u001b[0m \u001b[0mreg\u001b[0m\u001b[0;34m:\u001b[0m\u001b[0;34m\u001b[0m\u001b[0m\n\u001b[0;32m---> 40\u001b[0;31m                 \u001b[0mreg\u001b[0m\u001b[0;34m[\u001b[0m\u001b[0margs\u001b[0m\u001b[0;34m[\u001b[0m\u001b[0;36m0\u001b[0m\u001b[0;34m]\u001b[0m\u001b[0;34m]\u001b[0m \u001b[0;34m+=\u001b[0m \u001b[0;36m1\u001b[0m\u001b[0;34m\u001b[0m\u001b[0m\n\u001b[0m\u001b[1;32m     41\u001b[0m         \u001b[0;32melif\u001b[0m \u001b[0mcmd\u001b[0m \u001b[0;34m==\u001b[0m \u001b[0;34m'dec'\u001b[0m\u001b[0;34m:\u001b[0m\u001b[0;34m\u001b[0m\u001b[0m\n\u001b[1;32m     42\u001b[0m             \u001b[0;32mif\u001b[0m \u001b[0margs\u001b[0m\u001b[0;34m[\u001b[0m\u001b[0;36m0\u001b[0m\u001b[0;34m]\u001b[0m \u001b[0;32min\u001b[0m \u001b[0mreg\u001b[0m\u001b[0;34m:\u001b[0m\u001b[0;34m\u001b[0m\u001b[0m\n",
      "\u001b[0;31mKeyboardInterrupt\u001b[0m: "
     ]
    }
   ],
   "source": [
    "with open('input.txt', 'r') as f:\n",
    "    instructions = f.read().strip().split('\\n')\n",
    "__import__('pprint').pprint(instructions)\n",
    "\n",
    "\n",
    "def is_integer(expr):\n",
    "    try:\n",
    "        int(expr)\n",
    "        return True\n",
    "    except ValueError:\n",
    "        return False\n",
    "    \n",
    "def read_instructions(instructions, reg={'a': 0, 'b': 0, 'c': 0, 'd': 0}):\n",
    "    to_value = lambda expr: int(expr) if is_integer(expr) else reg[expr]\n",
    "    \n",
    "    i = 0\n",
    "    while i < len(instructions):\n",
    "        line = instructions[i]\n",
    "        cmd, *args = line.split()\n",
    "        \n",
    "        if cmd == 'tgl':\n",
    "            target = i + to_value(args[0])\n",
    "            if not (0 <= target < len(instructions)): \n",
    "                i += 1\n",
    "                continue\n",
    "            target_cmd, *target_args = instructions[target].split()\n",
    "            \n",
    "            if len(target_args) == 1:\n",
    "                tgl_result = 'inc'\n",
    "                if target_cmd == 'inc':\n",
    "                    tgl_result = 'dec'\n",
    "            else:\n",
    "                tgl_result = 'jnz'\n",
    "                if target_cmd == 'jnz':\n",
    "                    tgl_result = 'cpy'\n",
    "            instructions[target] = tgl_result + ' ' + ' '.join(target_args)\n",
    "            \n",
    "        elif cmd == 'inc':\n",
    "            if args[0] in reg:\n",
    "                reg[args[0]] += 1\n",
    "        elif cmd == 'dec':\n",
    "            if args[0] in reg:\n",
    "                reg[args[0]] -= 1\n",
    "        elif cmd == 'cpy':\n",
    "            if args[1] in reg:\n",
    "                origin = to_value(args[0])\n",
    "                reg[args[1]] = origin\n",
    "        else:  # jnz\n",
    "            check_value = to_value(args[0])\n",
    "            if check_value:\n",
    "                i += int(to_value(args[1]))\n",
    "                continue\n",
    "        i += 1\n",
    "    return reg\n",
    "read_instructions(instructions, reg={'a': 12, 'b': 0, 'c': 0, 'd': 0})"
   ]
  },
  {
   "cell_type": "code",
   "execution_count": 28,
   "metadata": {
    "collapsed": false
   },
   "outputs": [
    {
     "data": {
      "text/plain": [
       "False"
      ]
     },
     "execution_count": 28,
     "metadata": {},
     "output_type": "execute_result"
    }
   ],
   "source": [
    "'-2'.isnumeric()"
   ]
  },
  {
   "cell_type": "code",
   "execution_count": 31,
   "metadata": {
    "collapsed": false
   },
   "outputs": [
    {
     "data": {
      "text/plain": [
       "False"
      ]
     },
     "execution_count": 31,
     "metadata": {},
     "output_type": "execute_result"
    }
   ],
   "source": [
    "is_integer('-a')"
   ]
  },
  {
   "cell_type": "markdown",
   "metadata": {},
   "source": [
    "# Stolen"
   ]
  },
  {
   "cell_type": "code",
   "execution_count": 39,
   "metadata": {
    "collapsed": false
   },
   "outputs": [
    {
     "name": "stdout",
     "output_type": "stream",
     "text": [
      "part 1: 10661\n",
      "part 2: 479007221\n"
     ]
    }
   ],
   "source": [
    "with open('input.txt', 'r') as f:\n",
    "    glines = f.read().strip().split('\\n')\n",
    "\n",
    "\n",
    "def is_num(s):\n",
    "    try:\n",
    "        int(s)\n",
    "    except:\n",
    "        return False\n",
    "    return True\n",
    "\n",
    "def getval(regs, x):\n",
    "    if is_num(x):\n",
    "        return int(x)\n",
    "    else:\n",
    "        return regs[x]\n",
    "\n",
    "def toggle(tline):\n",
    "    sp = tline.split(\" \")\n",
    "\n",
    "    instr = sp[0]\n",
    "    if instr == \"inc\":\n",
    "        return \" \".join([\"dec\"] + sp[1:])\n",
    "    elif instr == \"dec\" or instr == \"tgl\":\n",
    "        return \" \".join([\"inc\"] + sp[1:])\n",
    "    elif instr == \"jnz\":\n",
    "        return \" \".join([\"cpy\"] + sp[1:])\n",
    "    elif instr == \"cpy\":\n",
    "        return \" \".join([\"jnz\"] + sp[1:])\n",
    "    else:\n",
    "        assert False\n",
    "\n",
    "def run(lines, part2=False):\n",
    "    pc = 0\n",
    "    regs = {\"a\": 7, \"b\": 0, \"c\": 0, \"d\": 0}\n",
    "    if part2:\n",
    "        regs[\"a\"] = 12\n",
    "\n",
    "    while True:\n",
    "        if pc >= len(lines):\n",
    "            break\n",
    "        line = lines[pc]\n",
    "\n",
    "        # Instruction tracing to find the loop to optimize:\n",
    "        #print pc, line\n",
    "\n",
    "        a, b = line.split(\" \", 1)\n",
    "\n",
    "        if a == \"cpy\":\n",
    "            b, c = b.split(\" \")\n",
    "            b = getval(regs, b)\n",
    "            if c in regs:\n",
    "                regs[c] = b\n",
    "            else:\n",
    "                print(\"invalid\")\n",
    "            pc += 1\n",
    "        elif a == \"inc\":\n",
    "            if b in regs:\n",
    "                # Peephole optimize inc/dec/jnz loops\n",
    "\n",
    "                # 4 cpy b c\n",
    "                # 5 inc a          <<<< 0\n",
    "                # 6 dec c          <<<< +1\n",
    "                # 7 jnz c -2       <<<< +2\n",
    "                # 8 dec d          <<<< +3\n",
    "                # 9 jnz d -5       <<<< +4\n",
    "\n",
    "                if pc + 3 < len(lines) and pc - 1 >= 0 and lines[pc-1].startswith(\"cpy \") and \\\n",
    "                    lines[pc+1].startswith(\"dec\") and lines[pc+2].startswith(\"jnz\") and \\\n",
    "                    lines[pc+3].startswith(\"dec\") and lines[pc+4].startswith(\"jnz\"):\n",
    "\n",
    "                    incop = b\n",
    "\n",
    "                    cpysrc, cpydest = lines[pc-1].split(\" \")[1:]\n",
    "                    dec1op = lines[pc+1].split(\" \")[1]\n",
    "                    jnz1cond, jnz1off = lines[pc+2].split(\" \")[1:]\n",
    "                    dec2op = lines[pc+3].split(\" \")[1]\n",
    "                    jnz2cond, jnz2off = lines[pc+4].split(\" \")[1:]\n",
    "\n",
    "                    if cpydest == dec1op and dec1op == jnz1cond and \\\n",
    "                        dec2op == jnz2cond and \\\n",
    "                        jnz1off == \"-2\" and jnz2off == \"-5\":\n",
    "                            # inner loop:\n",
    "                            # incop += cpysrc\n",
    "                            # dec1op <- 0\n",
    "\n",
    "                            # outer loop:\n",
    "                            # dec2op times\n",
    "\n",
    "                            # net result:  incop += (cpysrc * dec2op)\n",
    "                            # dec1op, dec2op <- 0\n",
    "                            regs[incop] += (getval(regs, cpysrc) * getval(regs, dec2op))\n",
    "                            regs[dec1op] = 0\n",
    "                            regs[dec2op] = 0\n",
    "                            pc += 5\n",
    "                            continue\n",
    "\n",
    "\n",
    "                regs[b] += 1\n",
    "            pc += 1\n",
    "        elif a == \"dec\":\n",
    "            if b in regs:\n",
    "                regs[b] -= 1\n",
    "            pc += 1\n",
    "        elif a == \"jnz\":\n",
    "            b, c = b.split(\" \")\n",
    "            b = getval(regs, b)\n",
    "            c = getval(regs, c)\n",
    "            if b != 0:\n",
    "                pc = pc + int(c)\n",
    "            else:\n",
    "                pc += 1\n",
    "        elif a == \"tgl\":\n",
    "            xr = b\n",
    "            x = getval(regs, xr)\n",
    "\n",
    "            iidx = pc + x\n",
    "            #print \"tgl\", x, iidx\n",
    "\n",
    "            if iidx >= 0 and iidx < len(lines):\n",
    "                tline = lines[iidx]\n",
    "                lines[iidx] = toggle(tline)\n",
    "                #print tline, \"->\", lines[iidx]\n",
    "            pc += 1\n",
    "        else:\n",
    "            assert False\n",
    "\n",
    "    return regs[\"a\"]\n",
    "\n",
    "\n",
    "print(\"part 1:\", run(glines[:]))\n",
    "print(\"part 2:\", run(glines[:], part2=True))"
   ]
  },
  {
   "cell_type": "code",
   "execution_count": null,
   "metadata": {
    "collapsed": true
   },
   "outputs": [],
   "source": []
  }
 ],
 "metadata": {
  "kernelspec": {
   "display_name": "Python 3",
   "language": "python",
   "name": "python3"
  },
  "language_info": {
   "codemirror_mode": {
    "name": "ipython",
    "version": 3
   },
   "file_extension": ".py",
   "mimetype": "text/x-python",
   "name": "python",
   "nbconvert_exporter": "python",
   "pygments_lexer": "ipython3",
   "version": "3.6.0"
  }
 },
 "nbformat": 4,
 "nbformat_minor": 2
}
