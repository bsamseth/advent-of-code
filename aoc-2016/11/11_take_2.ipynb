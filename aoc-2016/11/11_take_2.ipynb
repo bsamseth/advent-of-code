{
 "cells": [
  {
   "cell_type": "code",
   "execution_count": 3,
   "metadata": {
    "collapsed": false
   },
   "outputs": [
    {
     "name": "stdout",
     "output_type": "stream",
     "text": [
      "True\n",
      "1 21 31\n",
      "[2 22 31]\n",
      "1 21 31\n"
     ]
    }
   ],
   "source": [
    "class State(object):\n",
    "    def __init__(self, elevator, pairs):\n",
    "        self.elevator = elevator\n",
    "        self.unrolled = list(pairs)\n",
    "        self.pairs = list(zip(pairs[::2], pairs[1::2]))\n",
    "    \n",
    "    @property\n",
    "    def islegal(self):\n",
    "        \"\"\"Return true if the state is not frying any microchips.\"\"\"\n",
    "        # Check for unprotected Micro chips, and for each\n",
    "        # check if any other generator is on the same floor. \n",
    "        for i, (G, M) in enumerate(self.pairs):\n",
    "            if G != M:\n",
    "                for j, (G2, _) in enumerate(self.pairs):\n",
    "                    if G2 == M:\n",
    "                        return False\n",
    "                \n",
    "        # At this point, return true if all values are legal floors\n",
    "        minimum = min(self.elevator, min(self.unrolled))\n",
    "        maximum = max(self.elevator, max(self.unrolled))\n",
    "        return  1 <= minimum and maximum <= 4\n",
    "    \n",
    "       \n",
    "    def moves(self):\n",
    "        for shift in -1, 1:\n",
    "            new_floor = self.elevator + shift\n",
    "            if 1 <= new_floor <= 4:\n",
    "                for i, v1 in enumerate(self.unrolled):\n",
    "                    if v1 == self.elevator:\n",
    "                        for j, v2 in enumerate(self.unrolled[i:], start=i):\n",
    "                            if v2 == self.elevator:\n",
    "                                new = self.unrolled[:]\n",
    "                                new[i] += shift\n",
    "                                if i != j:\n",
    "                                    new[j] += shift\n",
    "                                new_state = State(new_floor, new)\n",
    "                                if new_state.islegal:\n",
    "                                    yield new_state\n",
    "\n",
    "    def __eq__(self, other):\n",
    "        return repr(self) == repr(other)\n",
    "\n",
    "    def __lt__(self, other):\n",
    "        return repr(self) < repr(other)\n",
    "    \n",
    "    def __hash__(self):\n",
    "        return hash(repr(self))\n",
    "    \n",
    "    def __repr__(self):\n",
    "        return repr(self.elevator) + ' ' + ' '.join(''.join(repr(a) for a in pair) for pair in self.pairs)\n",
    "\n",
    "state = State(1, [2,1,3,1])\n",
    "print(state.islegal)\n",
    "print(state)\n",
    "print(list(state.moves()))\n",
    "print(state)"
   ]
  },
  {
   "cell_type": "code",
   "execution_count": null,
   "metadata": {
    "collapsed": true
   },
   "outputs": [],
   "source": [
    "import random\n",
    "def zobrist(n_types=5, n_floors=4):\n",
    "    maxint = 99999999999999999999999999\n",
    "    floor_hash = {i: random.randint(0, maxint) for i in range(1, n_floors+1)}\n",
    "    ischip_hash, isgen_hash = (random.random(0, maxint) for _ in range(2))\n",
    "    chiptype_hash = {i: random.randint(0, maxint) for i in range(n_types)}\n",
    "    gentype_hash = {i: random.randint(0, maxint) for i in range(n_types)}\n",
    "    \n",
    "    def shash(state):\n",
    "        code = 0\n",
    "        \n",
    "        gens_at_floor = {i: set() for i in range(1, n_floors+1)}\n",
    "        chips_at_floor = {i: set() for i in range(1, n_floors+1)}\n",
    "        \n",
    "        for i, f in state.unrolled:\n",
    "            if i % 2 == 0:\n",
    "                gens_at_floor[f].add(i)\n",
    "            else:\n",
    "                chips_at_floor[f].add(i)\n",
    "        matched = {i: gens_at_floor[i].intersection(chips_at_floor[i]) for i in range(1, n_floors+1)}\n",
    "        gens_at_floor = {i: gens_at_floor[i] - matched[i] for i in range(1, n_floors+1)}\n",
    "        chips_at_floor = {i: chips_at_floor[i] - matched[i] for i in range(1, n_floors+1)}\n",
    "        \n",
    "        for f in range(1, n_floors+1):\n",
    "            res = res ^ fl"
   ]
  },
  {
   "cell_type": "code",
   "execution_count": 9,
   "metadata": {
    "collapsed": true
   },
   "outputs": [],
   "source": [
    "from collections import deque\n",
    "def bfs(start_state, target):\n",
    "    \n",
    "    visited = set()\n",
    "    start_state.dist = 0\n",
    "    queue = deque([start_state])\n",
    "    \n",
    "    curr_depth = 0\n",
    "    \n",
    "    while queue:\n",
    "        current = queue.popleft()\n",
    "        visited.add(current)\n",
    "                \n",
    "        if current == target:\n",
    "            return current\n",
    "        \n",
    "        if current.dist > curr_depth:\n",
    "            curr_depth = current.dist\n",
    "            print('At depth', current.dist)\n",
    "        \n",
    "        for neighbor in current.moves():\n",
    "            if neighbor not in visited:\n",
    "                neighbor.dist = current.dist + 1\n",
    "                neighbor.parent = current\n",
    "                queue.append(neighbor)\n",
    "    return start_state"
   ]
  },
  {
   "cell_type": "code",
   "execution_count": 7,
   "metadata": {
    "collapsed": false
   },
   "outputs": [
    {
     "name": "stdout",
     "output_type": "stream",
     "text": [
      "At depth 1\n",
      "At depth 2\n",
      "At depth 3\n",
      "At depth 4\n",
      "At depth 5\n",
      "At depth 6\n",
      "At depth 7\n",
      "At depth 8\n",
      "At depth 9\n",
      "At depth 10\n",
      "At depth 11\n",
      "Minimum elevator rides to target: 11\n"
     ]
    }
   ],
   "source": [
    "target_state = State(1, [2,1,3,1])\n",
    "start_state = State(4, [4,4,4,4])\n",
    "\n",
    "dest = bfs(start_state, target_state)\n",
    "print('Minimum elevator rides to target:', dest.dist)"
   ]
  },
  {
   "cell_type": "code",
   "execution_count": 8,
   "metadata": {
    "collapsed": false
   },
   "outputs": [
    {
     "name": "stdout",
     "output_type": "stream",
     "text": [
      "At depth 1\n",
      "At depth 2\n",
      "At depth 3\n",
      "At depth 4\n",
      "At depth 5\n",
      "At depth 6\n",
      "At depth 7\n",
      "At depth 8\n"
     ]
    },
    {
     "ename": "KeyboardInterrupt",
     "evalue": "",
     "output_type": "error",
     "traceback": [
      "\u001b[0;31m---------------------------------------------------------------------------\u001b[0m",
      "\u001b[0;31mKeyboardInterrupt\u001b[0m                         Traceback (most recent call last)",
      "\u001b[0;32m<ipython-input-8-73c3024ac2fa>\u001b[0m in \u001b[0;36m<module>\u001b[0;34m()\u001b[0m\n\u001b[1;32m      2\u001b[0m \u001b[0mstart_state\u001b[0m \u001b[0;34m=\u001b[0m \u001b[0mState\u001b[0m\u001b[0;34m(\u001b[0m\u001b[0;36m4\u001b[0m\u001b[0;34m,\u001b[0m  \u001b[0;34m[\u001b[0m\u001b[0;36m4\u001b[0m\u001b[0;34m,\u001b[0m\u001b[0;36m4\u001b[0m\u001b[0;34m,\u001b[0m\u001b[0;36m4\u001b[0m\u001b[0;34m,\u001b[0m\u001b[0;36m4\u001b[0m\u001b[0;34m,\u001b[0m\u001b[0;36m4\u001b[0m\u001b[0;34m,\u001b[0m\u001b[0;36m4\u001b[0m\u001b[0;34m,\u001b[0m\u001b[0;36m4\u001b[0m\u001b[0;34m,\u001b[0m\u001b[0;36m4\u001b[0m\u001b[0;34m,\u001b[0m\u001b[0;36m4\u001b[0m\u001b[0;34m,\u001b[0m\u001b[0;36m4\u001b[0m\u001b[0;34m]\u001b[0m\u001b[0;34m)\u001b[0m\u001b[0;34m\u001b[0m\u001b[0m\n\u001b[1;32m      3\u001b[0m \u001b[0;34m\u001b[0m\u001b[0m\n\u001b[0;32m----> 4\u001b[0;31m \u001b[0mdest\u001b[0m \u001b[0;34m=\u001b[0m \u001b[0mbfs\u001b[0m\u001b[0;34m(\u001b[0m\u001b[0mstart_state\u001b[0m\u001b[0;34m,\u001b[0m \u001b[0mtarget_state\u001b[0m\u001b[0;34m)\u001b[0m\u001b[0;34m\u001b[0m\u001b[0m\n\u001b[0m\u001b[1;32m      5\u001b[0m \u001b[0mprint\u001b[0m\u001b[0;34m(\u001b[0m\u001b[0;34m'Minimum elevator rides to target:'\u001b[0m\u001b[0;34m,\u001b[0m \u001b[0mdest\u001b[0m\u001b[0;34m.\u001b[0m\u001b[0mdist\u001b[0m\u001b[0;34m)\u001b[0m\u001b[0;34m\u001b[0m\u001b[0m\n",
      "\u001b[0;32m<ipython-input-6-be76a4948fe1>\u001b[0m in \u001b[0;36mbfs\u001b[0;34m(start_state, target)\u001b[0m\n\u001b[1;32m     19\u001b[0m             \u001b[0mprint\u001b[0m\u001b[0;34m(\u001b[0m\u001b[0;34m'At depth'\u001b[0m\u001b[0;34m,\u001b[0m \u001b[0mcurrent\u001b[0m\u001b[0;34m.\u001b[0m\u001b[0mdist\u001b[0m\u001b[0;34m)\u001b[0m\u001b[0;34m\u001b[0m\u001b[0m\n\u001b[1;32m     20\u001b[0m \u001b[0;34m\u001b[0m\u001b[0m\n\u001b[0;32m---> 21\u001b[0;31m         \u001b[0;32mfor\u001b[0m \u001b[0mneighbor\u001b[0m \u001b[0;32min\u001b[0m \u001b[0mcurrent\u001b[0m\u001b[0;34m.\u001b[0m\u001b[0mmoves\u001b[0m\u001b[0;34m(\u001b[0m\u001b[0;34m)\u001b[0m\u001b[0;34m:\u001b[0m\u001b[0;34m\u001b[0m\u001b[0m\n\u001b[0m\u001b[1;32m     22\u001b[0m             \u001b[0;32mif\u001b[0m \u001b[0mneighbor\u001b[0m \u001b[0;32mnot\u001b[0m \u001b[0;32min\u001b[0m \u001b[0mvisited\u001b[0m\u001b[0;34m:\u001b[0m\u001b[0;34m\u001b[0m\u001b[0m\n\u001b[1;32m     23\u001b[0m                 \u001b[0mneighbor\u001b[0m\u001b[0;34m.\u001b[0m\u001b[0mdist\u001b[0m \u001b[0;34m=\u001b[0m \u001b[0mcurrent\u001b[0m\u001b[0;34m.\u001b[0m\u001b[0mdist\u001b[0m \u001b[0;34m+\u001b[0m \u001b[0;36m1\u001b[0m\u001b[0;34m\u001b[0m\u001b[0m\n",
      "\u001b[0;32m<ipython-input-3-2f12dc805171>\u001b[0m in \u001b[0;36mmoves\u001b[0;34m(self)\u001b[0m\n\u001b[1;32m     34\u001b[0m                                 \u001b[0;32mif\u001b[0m \u001b[0mi\u001b[0m \u001b[0;34m!=\u001b[0m \u001b[0mj\u001b[0m\u001b[0;34m:\u001b[0m\u001b[0;34m\u001b[0m\u001b[0m\n\u001b[1;32m     35\u001b[0m                                     \u001b[0mnew\u001b[0m\u001b[0;34m[\u001b[0m\u001b[0mj\u001b[0m\u001b[0;34m]\u001b[0m \u001b[0;34m+=\u001b[0m \u001b[0mshift\u001b[0m\u001b[0;34m\u001b[0m\u001b[0m\n\u001b[0;32m---> 36\u001b[0;31m                                 \u001b[0mnew_state\u001b[0m \u001b[0;34m=\u001b[0m \u001b[0mState\u001b[0m\u001b[0;34m(\u001b[0m\u001b[0mnew_floor\u001b[0m\u001b[0;34m,\u001b[0m \u001b[0mnew\u001b[0m\u001b[0;34m)\u001b[0m\u001b[0;34m\u001b[0m\u001b[0m\n\u001b[0m\u001b[1;32m     37\u001b[0m                                 \u001b[0;32mif\u001b[0m \u001b[0mnew_state\u001b[0m\u001b[0;34m.\u001b[0m\u001b[0mislegal\u001b[0m\u001b[0;34m:\u001b[0m\u001b[0;34m\u001b[0m\u001b[0m\n\u001b[1;32m     38\u001b[0m                                     \u001b[0;32myield\u001b[0m \u001b[0mnew_state\u001b[0m\u001b[0;34m\u001b[0m\u001b[0m\n",
      "\u001b[0;32m<ipython-input-3-2f12dc805171>\u001b[0m in \u001b[0;36m__init__\u001b[0;34m(self, elevator, pairs)\u001b[0m\n\u001b[1;32m      3\u001b[0m         \u001b[0mself\u001b[0m\u001b[0;34m.\u001b[0m\u001b[0melevator\u001b[0m \u001b[0;34m=\u001b[0m \u001b[0melevator\u001b[0m\u001b[0;34m\u001b[0m\u001b[0m\n\u001b[1;32m      4\u001b[0m         \u001b[0mself\u001b[0m\u001b[0;34m.\u001b[0m\u001b[0munrolled\u001b[0m \u001b[0;34m=\u001b[0m \u001b[0mlist\u001b[0m\u001b[0;34m(\u001b[0m\u001b[0mpairs\u001b[0m\u001b[0;34m)\u001b[0m\u001b[0;34m\u001b[0m\u001b[0m\n\u001b[0;32m----> 5\u001b[0;31m         \u001b[0mself\u001b[0m\u001b[0;34m.\u001b[0m\u001b[0mpairs\u001b[0m \u001b[0;34m=\u001b[0m \u001b[0mlist\u001b[0m\u001b[0;34m(\u001b[0m\u001b[0mzip\u001b[0m\u001b[0;34m(\u001b[0m\u001b[0mpairs\u001b[0m\u001b[0;34m[\u001b[0m\u001b[0;34m:\u001b[0m\u001b[0;34m:\u001b[0m\u001b[0;36m2\u001b[0m\u001b[0;34m]\u001b[0m\u001b[0;34m,\u001b[0m \u001b[0mpairs\u001b[0m\u001b[0;34m[\u001b[0m\u001b[0;36m1\u001b[0m\u001b[0;34m:\u001b[0m\u001b[0;34m:\u001b[0m\u001b[0;36m2\u001b[0m\u001b[0;34m]\u001b[0m\u001b[0;34m)\u001b[0m\u001b[0;34m)\u001b[0m\u001b[0;34m\u001b[0m\u001b[0m\n\u001b[0m\u001b[1;32m      6\u001b[0m \u001b[0;34m\u001b[0m\u001b[0m\n\u001b[1;32m      7\u001b[0m     \u001b[0;34m@\u001b[0m\u001b[0mproperty\u001b[0m\u001b[0;34m\u001b[0m\u001b[0m\n",
      "\u001b[0;31mKeyboardInterrupt\u001b[0m: "
     ]
    }
   ],
   "source": [
    "target_state = State(1, [1,1,2,3,2,3,2,3,2,3])\n",
    "start_state = State(4,  [4,4,4,4,4,4,4,4,4,4])\n",
    "\n",
    "dest = bfs(start_state, target_state)\n",
    "print('Minimum elevator rides to target:', dest.dist)"
   ]
  },
  {
   "cell_type": "code",
   "execution_count": null,
   "metadata": {
    "collapsed": true
   },
   "outputs": [],
   "source": []
  }
 ],
 "metadata": {
  "kernelspec": {
   "display_name": "Python 3",
   "language": "python",
   "name": "python3"
  },
  "language_info": {
   "codemirror_mode": {
    "name": "ipython",
    "version": 3
   },
   "file_extension": ".py",
   "mimetype": "text/x-python",
   "name": "python",
   "nbconvert_exporter": "python",
   "pygments_lexer": "ipython3",
   "version": "3.5.2"
  }
 },
 "nbformat": 4,
 "nbformat_minor": 1
}
