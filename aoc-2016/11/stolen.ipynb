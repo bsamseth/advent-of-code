{
 "cells": [
  {
   "cell_type": "markdown",
   "metadata": {},
   "source": [
    "Turns out the input is trivially solved (as if there was only generators, or only microchips, no interaction). Not the case for all inputs."
   ]
  },
  {
   "cell_type": "code",
   "execution_count": 2,
   "metadata": {
    "collapsed": false
   },
   "outputs": [
    {
     "name": "stdout",
     "output_type": "stream",
     "text": [
      "Part 1: \n",
      "33\n",
      "Part 2: \n",
      "57\n"
     ]
    }
   ],
   "source": [
    "print(\"Part 1: \")\n",
    "print(sum(2 * sum([2, 4, 4, 0][:x]) for x in range(1, 4)) - 3)\n",
    "\n",
    "print(\"Part 2: \")\n",
    "print(sum(2 * sum([6, 4, 4, 0][:x]) for x in range(1, 4)) - 3)"
   ]
  },
  {
   "cell_type": "code",
   "execution_count": null,
   "metadata": {
    "collapsed": true
   },
   "outputs": [],
   "source": []
  }
 ],
 "metadata": {
  "kernelspec": {
   "display_name": "Python 3",
   "language": "python",
   "name": "python3"
  },
  "language_info": {
   "codemirror_mode": {
    "name": "ipython",
    "version": 3
   },
   "file_extension": ".py",
   "mimetype": "text/x-python",
   "name": "python",
   "nbconvert_exporter": "python",
   "pygments_lexer": "ipython3",
   "version": "3.5.2"
  }
 },
 "nbformat": 4,
 "nbformat_minor": 1
}
