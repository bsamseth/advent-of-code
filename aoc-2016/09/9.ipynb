{
 "cells": [
  {
   "cell_type": "code",
   "execution_count": 118,
   "metadata": {
    "collapsed": false
   },
   "outputs": [],
   "source": [
    "with open('input.txt', 'r') as f:\n",
    "    compressed = f.read().strip()"
   ]
  },
  {
   "cell_type": "code",
   "execution_count": 121,
   "metadata": {
    "collapsed": false
   },
   "outputs": [
    {
     "name": "stdout",
     "output_type": "stream",
     "text": [
      "98135\n"
     ]
    }
   ],
   "source": [
    "decompressed = ''\n",
    "pos = 0\n",
    "while pos < len(compressed):\n",
    "    if compressed[pos] != '(':\n",
    "        decompressed += compressed[pos]\n",
    "        pos += 1\n",
    "    else:\n",
    "        try:\n",
    "            close = pos + compressed[pos:].index(')')\n",
    "            next_n, repeat_count = (int(i) for i in compressed[pos+1:close].split('x'))\n",
    "        except:\n",
    "            decompressed += compressed[pos]\n",
    "            pos += 1\n",
    "        else:\n",
    "            seq = compressed[close+1:close+1 + next_n]\n",
    "            decompressed += seq * repeat_count\n",
    "            pos = close + next_n + 1\n",
    "print(len(decompressed))"
   ]
  },
  {
   "cell_type": "markdown",
   "metadata": {},
   "source": [
    "#### V2"
   ]
  },
  {
   "cell_type": "code",
   "execution_count": 130,
   "metadata": {
    "collapsed": false
   },
   "outputs": [
    {
     "name": "stdout",
     "output_type": "stream",
     "text": [
      "Decompressed length using version 2 compression: 10964557606 (~11 GB)\n"
     ]
    }
   ],
   "source": [
    "def declength(seq):\n",
    "    \"\"\"\n",
    "    Recursive method to calculate the decompressed length of the sequence.\n",
    "    \n",
    "    declength(trivial string) -> len(seq)\n",
    "    declength(seq) -> len(initial trivial part) \n",
    "                      + repeat_count * declength(subsequence to repeat)\n",
    "                      + declength(remainder of sequence)\n",
    "    \"\"\"\n",
    "    try:\n",
    "        par_open, par_close = seq.index('('), seq.index(')')\n",
    "        next_n, repeat_count = (int(i) for i in seq[par_open+1:par_close].split('x'))\n",
    "    except:\n",
    "        return len(seq)\n",
    "    else:\n",
    "        repeated = seq[par_close+1:par_close+1+next_n]\n",
    "        return len(seq[:par_open]) + \\\n",
    "               repeat_count * declength(repeated) + \\\n",
    "               declength(seq[par_close+1 + next_n:])\n",
    "\n",
    "length = declength(compressed)\n",
    "print('Decompressed length using version 2 compression: %d (~%.f GB)' % (length, length/1e9))"
   ]
  },
  {
   "cell_type": "code",
   "execution_count": null,
   "metadata": {
    "collapsed": true
   },
   "outputs": [],
   "source": []
  }
 ],
 "metadata": {
  "kernelspec": {
   "display_name": "Python 3",
   "language": "python",
   "name": "python3"
  },
  "language_info": {
   "codemirror_mode": {
    "name": "ipython",
    "version": 3
   },
   "file_extension": ".py",
   "mimetype": "text/x-python",
   "name": "python",
   "nbconvert_exporter": "python",
   "pygments_lexer": "ipython3",
   "version": "3.5.2"
  }
 },
 "nbformat": 4,
 "nbformat_minor": 1
}
