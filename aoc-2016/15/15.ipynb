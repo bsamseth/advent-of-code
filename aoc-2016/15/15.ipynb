{
 "cells": [
  {
   "cell_type": "markdown",
   "metadata": {},
   "source": [
    "# Day 15: Timing is Everything\n",
    "\n",
    "Puzzle input:\n",
    "``` text\n",
    "Disc #1 has 17 positions; at time=0, it is at position 1.\n",
    "Disc #2 has 7 positions; at time=0, it is at position 0.\n",
    "Disc #3 has 19 positions; at time=0, it is at position 2.\n",
    "Disc #4 has 5 positions; at time=0, it is at position 0.\n",
    "Disc #5 has 3 positions; at time=0, it is at position 0.\n",
    "Disc #6 has 13 positions; at time=0, it is at position 5.\n",
    "```"
   ]
  },
  {
   "cell_type": "code",
   "execution_count": 8,
   "metadata": {
    "collapsed": false
   },
   "outputs": [
    {
     "name": "stdout",
     "output_type": "stream",
     "text": [
      "317371\n"
     ]
    }
   ],
   "source": [
    "from itertools import count\n",
    "\n",
    "discs = [(1, 17), (0, 7), (2, 19), (0, 5), (0, 3), (5, 13)]\n",
    "\n",
    "possible = lambda t: all( (start + t + i+1) % n_pos == 0   for i, (start, n_pos) in enumerate(discs))\n",
    "\n",
    "for t in count():\n",
    "    if possible(t):\n",
    "        print(t)\n",
    "        break\n"
   ]
  },
  {
   "cell_type": "markdown",
   "metadata": {},
   "source": [
    "### Part two"
   ]
  },
  {
   "cell_type": "code",
   "execution_count": 9,
   "metadata": {
    "collapsed": false
   },
   "outputs": [
    {
     "name": "stdout",
     "output_type": "stream",
     "text": [
      "2080951\n"
     ]
    }
   ],
   "source": [
    "discs.append((0, 11))\n",
    "for t in count():\n",
    "    if possible(t):\n",
    "        print(t)\n",
    "        break"
   ]
  },
  {
   "cell_type": "code",
   "execution_count": null,
   "metadata": {
    "collapsed": true
   },
   "outputs": [],
   "source": []
  }
 ],
 "metadata": {
  "kernelspec": {
   "display_name": "Python 3",
   "language": "python",
   "name": "python3"
  },
  "language_info": {
   "codemirror_mode": {
    "name": "ipython",
    "version": 3
   },
   "file_extension": ".py",
   "mimetype": "text/x-python",
   "name": "python",
   "nbconvert_exporter": "python",
   "pygments_lexer": "ipython3",
   "version": "3.5.2"
  }
 },
 "nbformat": 4,
 "nbformat_minor": 1
}
