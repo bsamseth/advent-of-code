{
 "cells": [
  {
   "cell_type": "code",
   "execution_count": 9,
   "metadata": {
    "collapsed": false,
    "deletable": true,
    "editable": true
   },
   "outputs": [
    {
     "name": "stdout",
     "output_type": "stream",
     "text": [
      "['cpy 1 a',\n",
      " 'cpy 1 b',\n",
      " 'cpy 26 d',\n",
      " 'jnz c 2',\n",
      " 'jnz 1 5',\n",
      " 'cpy 7 c',\n",
      " 'inc d',\n",
      " 'dec c',\n",
      " 'jnz c -2',\n",
      " 'cpy a c',\n",
      " 'inc a',\n",
      " 'dec b',\n",
      " 'jnz b -2',\n",
      " 'cpy c b',\n",
      " 'dec d',\n",
      " 'jnz d -6',\n",
      " 'cpy 14 c',\n",
      " 'cpy 14 d',\n",
      " 'inc a',\n",
      " 'dec d',\n",
      " 'jnz d -2',\n",
      " 'dec c',\n",
      " 'jnz c -5']\n"
     ]
    }
   ],
   "source": [
    "with open('input.txt', 'r') as f:\n",
    "    instructions = f.read().strip().split('\\n')\n",
    "__import__('pprint').pprint(instructions)"
   ]
  },
  {
   "cell_type": "code",
   "execution_count": 12,
   "metadata": {
    "collapsed": false,
    "deletable": true,
    "editable": true
   },
   "outputs": [],
   "source": [
    "def read_instructions(instructions, reg={'a': 0, 'b': 0, 'c': 0, 'd': 0}):\n",
    "    i = 0\n",
    "    while i < len(instructions):\n",
    "        line = instructions[i]\n",
    "        cmd, *args = line.split()\n",
    "    \n",
    "        if cmd == 'inc':\n",
    "            reg[args[0]] += 1\n",
    "        elif cmd == 'dec':\n",
    "            reg[args[0]] -= 1\n",
    "        elif cmd == 'cpy':\n",
    "            origin = int(args[0]) if args[0].isnumeric() else reg[args[0]]\n",
    "            reg[args[1]] = origin\n",
    "        else:  # jnz\n",
    "            check_value = int(args[0]) if args[0].isnumeric() else reg[args[0]]\n",
    "            if check_value:\n",
    "                i += int(args[1])\n",
    "                continue\n",
    "        i += 1\n",
    "    return reg"
   ]
  },
  {
   "cell_type": "code",
   "execution_count": 13,
   "metadata": {
    "collapsed": false,
    "deletable": true,
    "editable": true
   },
   "outputs": [
    {
     "name": "stdout",
     "output_type": "stream",
     "text": [
      "{'b': 196418, 'a': 318007, 'd': 0, 'c': 0}\n"
     ]
    }
   ],
   "source": [
    "print(read_instructions(instructions))"
   ]
  },
  {
   "cell_type": "code",
   "execution_count": 15,
   "metadata": {
    "collapsed": false,
    "deletable": true,
    "editable": true
   },
   "outputs": [
    {
     "name": "stdout",
     "output_type": "stream",
     "text": [
      "{'b': 5702887, 'a': 9227661, 'd': 0, 'c': 0}\n"
     ]
    }
   ],
   "source": [
    "print(read_instructions(instructions, reg={'a': 0, 'b': 0, 'c': 1, 'd': 0}))"
   ]
  },
  {
   "cell_type": "code",
   "execution_count": null,
   "metadata": {
    "collapsed": true,
    "deletable": true,
    "editable": true
   },
   "outputs": [],
   "source": []
  }
 ],
 "metadata": {
  "kernelspec": {
   "display_name": "Python 3",
   "language": "python",
   "name": "python3"
  },
  "language_info": {
   "codemirror_mode": {
    "name": "ipython",
    "version": 3
   },
   "file_extension": ".py",
   "mimetype": "text/x-python",
   "name": "python",
   "nbconvert_exporter": "python",
   "pygments_lexer": "ipython3",
   "version": "3.6.0"
  }
 },
 "nbformat": 4,
 "nbformat_minor": 1
}
